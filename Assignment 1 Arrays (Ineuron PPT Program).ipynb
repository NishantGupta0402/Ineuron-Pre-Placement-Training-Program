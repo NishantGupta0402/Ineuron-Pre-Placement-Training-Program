{
 "cells": [
  {
   "cell_type": "markdown",
   "id": "a0f98c1e",
   "metadata": {},
   "source": [
    "### Sol 1 Given an integer array nums of 2n integers, group these integers into n pairs (a1, b1), (a2, b2),..., (an, bn) such that the sum of min(ai, bi) for all i is maximized. Return the maximized sum.\n"
   ]
  },
  {
   "cell_type": "code",
   "execution_count": 1,
   "id": "199cdf63",
   "metadata": {},
   "outputs": [
    {
     "data": {
      "text/plain": [
       "[0, 1]"
      ]
     },
     "execution_count": 1,
     "metadata": {},
     "output_type": "execute_result"
    }
   ],
   "source": [
    "## Sol 1\n",
    "\n",
    "def twoSum(nums, target):\n",
    "        d = {}\n",
    "        for i, n in enumerate(nums):\n",
    "            m = target - n\n",
    "            if m in d:\n",
    "                return [d[m], i]\n",
    "            else:\n",
    "                d[n] = i\n",
    "                \n",
    "nums = [2,7,11,15]\n",
    "target = 9\n",
    "\n",
    "twoSum(nums,target)"
   ]
  },
  {
   "cell_type": "markdown",
   "id": "2e6c0eb3",
   "metadata": {},
   "source": [
    "### Sol 2 Given an integer array nums and an integer val, remove all occurrences of val in nums in-place. The order of the elements may be changed. Then return the number of elements in nums which are not equal to val."
   ]
  },
  {
   "cell_type": "code",
   "execution_count": null,
   "id": "7f1c858e",
   "metadata": {},
   "outputs": [],
   "source": [
    "## Sol 2\n",
    "\n",
    "\n",
    "\n",
    "def removeElement(nums, val):\n",
    "        n = 0\n",
    "        for i in range(len(nums)):\n",
    "            if nums[i] == val: \n",
    "                nums[i] = float('inf') \n",
    "                n += 1\n",
    "        nums.sort()\n",
    "        return(len(nums) - n)\n",
    "    \n",
    "nums = [3,2,2,3]\n",
    "val = 3\n",
    "\n",
    "removeElement(nums, val)"
   ]
  },
  {
   "cell_type": "markdown",
   "id": "5cadab75",
   "metadata": {},
   "source": [
    "### Sol 3 Given a sorted array of distinct integers and a target value, return the index if the target is found. If not, return the index where it would be if it were inserted in order."
   ]
  },
  {
   "cell_type": "code",
   "execution_count": 3,
   "id": "2b2069e4",
   "metadata": {},
   "outputs": [
    {
     "data": {
      "text/plain": [
       "2"
      ]
     },
     "execution_count": 3,
     "metadata": {},
     "output_type": "execute_result"
    }
   ],
   "source": [
    "## Sol3\n",
    "def searchInsert(nums, target):\n",
    "        l = 0\n",
    "        r = len(nums) - 1\n",
    "        while l <= r:\n",
    "            mid = (l + r) // 2\n",
    "            if nums[mid] < target:\n",
    "                l = mid + 1\n",
    "            elif nums[mid] > target:\n",
    "                r = mid - 1\n",
    "            else:\n",
    "                return mid\n",
    "        return l\n",
    "    \n",
    "nums = [1,3,5,6]\n",
    "\n",
    "target=5\n",
    "\n",
    "searchInsert(nums, target)"
   ]
  },
  {
   "cell_type": "markdown",
   "id": "c9008411",
   "metadata": {},
   "source": [
    "### Sol 4 You are given a large integer represented as an integer array digits, where each digits[i] is the ith digit of the integer. The digits are ordered from most significant to least significant in left-to-right order. The large integer does not contain any leading 0's.Increment the large integer by one and return the resulting array of digits.\n",
    "\n"
   ]
  },
  {
   "cell_type": "code",
   "execution_count": 5,
   "id": "5d31a178",
   "metadata": {},
   "outputs": [
    {
     "data": {
      "text/plain": [
       "[1, 2, 4]"
      ]
     },
     "execution_count": 5,
     "metadata": {},
     "output_type": "execute_result"
    }
   ],
   "source": [
    "##Sol 4\n",
    "\n",
    "def plusOne(digits):\n",
    "        strings = \"\"\n",
    "        for number in digits:\n",
    "            strings += str(number)\n",
    "\n",
    "        temp = str(int(strings) +1)\n",
    "\n",
    "        return [int(temp[i]) for i in range(len(temp))]\n",
    "    \n",
    "digits = [1,2,3]\n",
    "\n",
    "plusOne(digits)"
   ]
  },
  {
   "cell_type": "markdown",
   "id": "2a943fc6",
   "metadata": {},
   "source": [
    "### Sol 5 You are given two integer arrays nums1 and nums2, sorted in non-decreasing order, and two integers m and n, representing the number of elements in nums1 and nums2 respectively.Merge nums1 and nums2 into a single array sorted in non-decreasing order.The final sorted array should not be returned by the function, but instead be stored inside the array nums1. To accommodate this, nums1 has a length of m + n, where the first m elements denote the elements that should be merged, and the last n elements are set to 0 and should be ignored. nums2 has a length of n.\n",
    "\n"
   ]
  },
  {
   "cell_type": "code",
   "execution_count": 6,
   "id": "e7fafbaf",
   "metadata": {},
   "outputs": [
    {
     "data": {
      "text/plain": [
       "[1, 2, 2, 3, 5, 6]"
      ]
     },
     "execution_count": 6,
     "metadata": {},
     "output_type": "execute_result"
    }
   ],
   "source": [
    "### Sol 5\n",
    "\n",
    "def merge( nums1,m, nums2, n):\n",
    "        \"\"\"\n",
    "        Do not return anything, modify nums1 in-place instead.\n",
    "        \"\"\"\n",
    "        i,j,k = m-1,n-1,m+n-1\n",
    "        while j>=0:\n",
    "            if i>=0 and nums1[i]>nums2[j]:\n",
    "                nums1[k]=nums1[i]\n",
    "                i-=1\n",
    "            else:\n",
    "                nums1[k]=nums2[j]                \n",
    "                j-=1\n",
    "            k-=1\n",
    "            \n",
    "        return nums1\n",
    "    \n",
    "nums1 = [1,2,3,0,0,0]\n",
    "m = 3\n",
    "nums2 = [2,5,6]\n",
    "n = 3\n",
    "\n",
    "merge( nums1,m, nums2, n)"
   ]
  },
  {
   "cell_type": "markdown",
   "id": "531293c7",
   "metadata": {},
   "source": [
    "### Sol 6 Given an integer array nums, return true if any value appears at least twice in the array, and return false if every element is distinct."
   ]
  },
  {
   "cell_type": "code",
   "execution_count": 7,
   "id": "16219a2e",
   "metadata": {},
   "outputs": [
    {
     "data": {
      "text/plain": [
       "True"
      ]
     },
     "execution_count": 7,
     "metadata": {},
     "output_type": "execute_result"
    }
   ],
   "source": [
    "## Sol 6 \n",
    "\n",
    "def containsDuplicate( nums):\n",
    "        return len(set(nums))!=len(nums)\n",
    "    \n",
    "nums = [1,2,3,1]\n",
    "\n",
    "containsDuplicate( nums)"
   ]
  },
  {
   "cell_type": "markdown",
   "id": "8ea14456",
   "metadata": {},
   "source": [
    "### Sol 7 Given an integer array nums, move all 0's to the end of it while maintaining the relative order of the nonzero elements."
   ]
  },
  {
   "cell_type": "code",
   "execution_count": 8,
   "id": "dcd98695",
   "metadata": {},
   "outputs": [
    {
     "data": {
      "text/plain": [
       "[1, 3, 12, 0, 0]"
      ]
     },
     "execution_count": 8,
     "metadata": {},
     "output_type": "execute_result"
    }
   ],
   "source": [
    "## Sol 7 \n",
    "\n",
    "def moveZeroes( nums):\n",
    "        slow = 0\n",
    "        for fast in range(len(nums)):\n",
    "            if nums[fast] != 0 and nums[slow] == 0:\n",
    "                nums[slow], nums[fast] = nums[fast], nums[slow]\n",
    "\n",
    "            if nums[slow] != 0:\n",
    "                slow += 1\n",
    "            \n",
    "        return nums\n",
    "                \n",
    "nums=[0,1,0,3,12]\n",
    "moveZeroes( nums)"
   ]
  },
  {
   "cell_type": "markdown",
   "id": "4922e609",
   "metadata": {},
   "source": [
    "### Sol 8 "
   ]
  },
  {
   "cell_type": "code",
   "execution_count": null,
   "id": "c7cc6a6e",
   "metadata": {},
   "outputs": [],
   "source": [
    "### Sol 8\n",
    "def findErrorNums( nums):\n",
    "        c=Counter(nums)\n",
    "        l=[0,0]\n",
    "        for i in range(1,len(nums)+1):\n",
    "            if c[i]==2:\n",
    "                l[0]=i\n",
    "            if c[i]==0:\n",
    "                l[1]=i\n",
    "        return l\n",
    "    \n",
    "nums = [1,2,2,4]\n",
    "\n",
    "findErrorNums(nums)\n"
   ]
  }
 ],
 "metadata": {
  "kernelspec": {
   "display_name": "Python 3 (ipykernel)",
   "language": "python",
   "name": "python3"
  },
  "language_info": {
   "codemirror_mode": {
    "name": "ipython",
    "version": 3
   },
   "file_extension": ".py",
   "mimetype": "text/x-python",
   "name": "python",
   "nbconvert_exporter": "python",
   "pygments_lexer": "ipython3",
   "version": "3.10.9"
  }
 },
 "nbformat": 4,
 "nbformat_minor": 5
}
