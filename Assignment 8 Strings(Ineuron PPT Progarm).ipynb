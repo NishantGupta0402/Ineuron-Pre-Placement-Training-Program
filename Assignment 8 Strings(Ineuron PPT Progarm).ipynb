{
 "cells": [
  {
   "cell_type": "code",
   "execution_count": null,
   "id": "07d97881",
   "metadata": {},
   "outputs": [],
   "source": []
  },
  {
   "cell_type": "markdown",
   "id": "18cb892f",
   "metadata": {},
   "source": [
    "### Sol 2 Given a string s containing only three types of characters: '(', ')' and '*', return true *if* s *is **valid***.\n",
    "\n",
    "The following rules define a **valid** string:\n",
    "\n",
    "- Any left parenthesis '(' must have a corresponding right parenthesis ')'.\n",
    "- Any right parenthesis ')' must have a corresponding left parenthesis '('.\n",
    "- Left parenthesis '(' must go before the corresponding right parenthesis ')'.\n",
    "- '*' could be treated as a single right parenthesis ')' or a single left parenthesis '(' or an empty string \"\"."
   ]
  },
  {
   "cell_type": "code",
   "execution_count": 4,
   "id": "0ba2b505",
   "metadata": {},
   "outputs": [
    {
     "data": {
      "text/plain": [
       "True"
      ]
     },
     "execution_count": 4,
     "metadata": {},
     "output_type": "execute_result"
    }
   ],
   "source": [
    "### Sol 2\n",
    "\n",
    "def checkValidString(s):\n",
    "    stack, star_stack=[],[]\n",
    "    for index,char in enumerate(s):\n",
    "        if char=='(':\n",
    "            stack.append(index)\n",
    "        elif char=='*':\n",
    "            star_stack.append(index)\n",
    "        elif char==')':\n",
    "            if len(stack)>0:\n",
    "                stack.pop()\n",
    "            elif len(star_stack)>0:\n",
    "                star_stack.pop()\n",
    "            else:\n",
    "                return False\n",
    "            \n",
    "    while stack and star_stack:\n",
    "        if stack[-1] < star_stack[-1]:\n",
    "            stack.pop()\n",
    "            star_stack.pop()\n",
    "        else:\n",
    "            break\n",
    "    return len(stack)==0\n",
    "\n",
    "s = \"()\"\n",
    "\n",
    "checkValidString(s)"
   ]
  },
  {
   "cell_type": "markdown",
   "id": "fc3c67a8",
   "metadata": {},
   "source": [
    "### Sol 3 Given an array of characters chars, compress it using the following algorithm:\n",
    "\n",
    "Begin with an empty string s. For each group of **consecutive repeating characters** in chars:\n",
    "\n",
    "- If the group's length is 1, append the character to s.\n",
    "- Otherwise, append the character followed by the group's length.\n",
    "\n",
    "The compressed string s **should not be returned separately**, but instead, be stored **in the input character array chars**. Note that group lengths that are 10 or longer will be split into multiple characters in chars.\n",
    "\n",
    "After you are done **modifying the input array,** return *the new length of the array*.\n",
    "\n",
    "You must write an algorithm that uses only constant extra space."
   ]
  },
  {
   "cell_type": "code",
   "execution_count": 6,
   "id": "a51f98f1",
   "metadata": {},
   "outputs": [
    {
     "data": {
      "text/plain": [
       "''"
      ]
     },
     "execution_count": 6,
     "metadata": {},
     "output_type": "execute_result"
    }
   ],
   "source": [
    "### Sol 5\n",
    "def compress(chars):\n",
    "    if len(chars) == 1:\n",
    "        return len(chars)\n",
    "        \n",
    "    charsLen = len(chars)\n",
    "    count = 1\n",
    "    for i in range(charsLen):\n",
    "        val = chars.pop(0)\n",
    "        if not chars or val != chars[0] or i == charsLen-1:\n",
    "            chars.append(val)\n",
    "            if count > 1:\n",
    "                for x in str(count): chars.append(x)\n",
    "            count = 1\n",
    "        else:\n",
    "            count += 1\n",
    "        print(chars)\n",
    "        return len(chars)\n",
    "\n",
    "\n",
    "\n",
    "chars = [\"a\",\"a\",\"b\",\"b\",\"c\",\"c\",\"c\"]\n",
    "\n",
    "compress(chars)"
   ]
  },
  {
   "cell_type": "markdown",
   "id": "46bfa496",
   "metadata": {},
   "source": [
    "### Sol 6 Given two strings s and p, return *an array of all the start indices of* p*'s anagrams in* s. You may return the answer in **any order**.\n",
    "\n",
    "An **Anagram** is a word or phrase formed by rearranging the letters of a different word or phrase, typically using all the original letters exactly once.\n"
   ]
  },
  {
   "cell_type": "code",
   "execution_count": 11,
   "id": "2fbdc4bc",
   "metadata": {},
   "outputs": [
    {
     "data": {
      "text/plain": [
       "[0, 6]"
      ]
     },
     "execution_count": 11,
     "metadata": {},
     "output_type": "execute_result"
    }
   ],
   "source": [
    "### Sol 6\n",
    "from collections import Counter\n",
    "\n",
    "def findAnagrams(s,p):\n",
    "    res = []\n",
    "        \n",
    "    # count of chars in target\n",
    "    p_count = Counter(p) \n",
    "        \n",
    "    s_window_count = Counter(s[:len(p)])  \n",
    "        \n",
    "        # loop through source string to compare each window with target\n",
    "    for i in range(len(s) - len(p)):\n",
    "        if p_count == s_window_count:\n",
    "            res.append(i)\n",
    "\n",
    "            # decrement count for the char which is left out of the window\n",
    "        s_window_count[s[i]] -= 1\n",
    "\n",
    "            # remove char count if it becomes zero\n",
    "        if s_window_count[s[i]] == 0:\n",
    "            del s_window_count[s[i]]\n",
    "\n",
    "            # increment count for the char which is included in the window\n",
    "        s_window_count[s[i + len(p)]] += 1\n",
    "\n",
    "        # check if last window is anagram or not\n",
    "    if p_count == s_window_count:\n",
    "        res.append(len(s) - len(p))\n",
    "            \n",
    "    return res\n",
    "\n",
    "s = \"cbaebabacd\"\n",
    "p = \"abc\"\n",
    "\n",
    "findAnagrams(s,p)"
   ]
  },
  {
   "cell_type": "markdown",
   "id": "1d5bb960",
   "metadata": {},
   "source": [
    "### Sol 7 Given an encoded string, return its decoded string.\n",
    "\n",
    "The encoding rule is: k[encoded_string], where the encoded_string inside the square brackets is being repeated exactly k times. Note that k is guaranteed to be a positive integer.\n",
    "\n",
    "You may assume that the input string is always valid; there are no extra white spaces, square brackets are well-formed, etc. Furthermore, you may assume that the original data does not contain any digits and that digits are only for those repeat numbers, k. For example, there will not be input like 3a or 2[4].\n",
    "\n",
    "The test cases are generated so that the length of the output will never exceed 105."
   ]
  },
  {
   "cell_type": "code",
   "execution_count": 12,
   "id": "c0d96011",
   "metadata": {},
   "outputs": [
    {
     "name": "stdout",
     "output_type": "stream",
     "text": [
      "3\n",
      "2\n"
     ]
    },
    {
     "data": {
      "text/plain": [
       "'aaabcbc'"
      ]
     },
     "execution_count": 12,
     "metadata": {},
     "output_type": "execute_result"
    }
   ],
   "source": [
    "### Sol 7\n",
    "\n",
    "def decodeString(s):\n",
    "        stack = []\n",
    "        for c in range(len(s)):\n",
    "            if s[c] != ']':\n",
    "                stack.append(s[c])\n",
    "            else:\n",
    "                string = ''\n",
    "                num = ''\n",
    "                while stack[-1] != '[':\n",
    "                    string = stack.pop() + string\n",
    "                stack.pop()\n",
    "                while stack and stack[-1].isdigit():\n",
    "                    num = stack.pop() + num\n",
    "                stack.append(int(num) * string)\n",
    "                print(num)\n",
    "        return \"\".join(stack)\n",
    "    \n",
    "s = \"3[a]2[bc]\"\n",
    "\n",
    "decodeString(s)"
   ]
  },
  {
   "cell_type": "markdown",
   "id": "732d91c7",
   "metadata": {},
   "source": [
    "### Sol 8 Given two strings s and goal, return true *if you can swap two letters in* s *so the result is equal to* goal*, otherwise, return* false*.*\n",
    "\n",
    "Swapping letters is defined as taking two indices i and j (0-indexed) such that i != j and swapping the characters at s[i] and s[j].\n",
    "\n",
    "- For example, swapping at indices 0 and 2 in \"abcd\" results in \"cbad\"."
   ]
  },
  {
   "cell_type": "code",
   "execution_count": 13,
   "id": "34770c8e",
   "metadata": {},
   "outputs": [
    {
     "data": {
      "text/plain": [
       "True"
      ]
     },
     "execution_count": 13,
     "metadata": {},
     "output_type": "execute_result"
    }
   ],
   "source": [
    "### Sol 8 \n",
    "\n",
    "def buddyStrings(s,goal):\n",
    "        if len(s) != len(goal):\n",
    "            return False\n",
    "        if s == goal :\n",
    "            frequency = [0]*26\n",
    "            for ch in s:\n",
    "                frequency[ord(ch)-ord('a')] += 1\n",
    "                if frequency[ord(ch)-ord('a')] == 2:\n",
    "                    return True\n",
    "            return False\n",
    "        first_index = -1\n",
    "        second_index = -1\n",
    "        for i in range(len(s)):\n",
    "            if s[i] != goal[i]:\n",
    "                if first_index == -1:\n",
    "                    first_index = i\n",
    "                elif second_index == -1:\n",
    "                    second_index = i\n",
    "                else:\n",
    "                    return False\n",
    "        if second_index == -1:\n",
    "            return False\n",
    "        return s[first_index]==goal[second_index] and s[second_index] == goal[first_index]\n",
    "    \n",
    "s = \"ab\"\n",
    "goal = \"ba\"\n",
    "\n",
    "buddyStrings(s,goal)\n",
    "    "
   ]
  },
  {
   "cell_type": "code",
   "execution_count": null,
   "id": "d31fe84e",
   "metadata": {},
   "outputs": [],
   "source": []
  }
 ],
 "metadata": {
  "kernelspec": {
   "display_name": "Python 3 (ipykernel)",
   "language": "python",
   "name": "python3"
  },
  "language_info": {
   "codemirror_mode": {
    "name": "ipython",
    "version": 3
   },
   "file_extension": ".py",
   "mimetype": "text/x-python",
   "name": "python",
   "nbconvert_exporter": "python",
   "pygments_lexer": "ipython3",
   "version": "3.10.9"
  }
 },
 "nbformat": 4,
 "nbformat_minor": 5
}
