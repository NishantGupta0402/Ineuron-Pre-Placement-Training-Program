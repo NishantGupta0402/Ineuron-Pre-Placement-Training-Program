{
 "cells": [
  {
   "cell_type": "markdown",
   "id": "f718fd07",
   "metadata": {},
   "source": [
    "### Sol 1 Given an integer array nums of 2n integers, group these integers into n pairs (a1, b1), (a2, b2),..., (an, bn) such that the sum of min(ai, bi) for all i is maximized. Return the maximized sum."
   ]
  },
  {
   "cell_type": "code",
   "execution_count": 1,
   "id": "5eebc9be",
   "metadata": {},
   "outputs": [
    {
     "data": {
      "text/plain": [
       "4"
      ]
     },
     "execution_count": 1,
     "metadata": {},
     "output_type": "execute_result"
    }
   ],
   "source": [
    "### Sol 1\n",
    "\n",
    "def arrayPairSum(nums):\n",
    "        nums=sorted(nums)\n",
    "        count=0\n",
    "        for i in range(0,len(nums),2):\n",
    "            count+=nums[i]\n",
    "        return count\n",
    "    \n",
    "nums = [1,4,3,2]\n",
    "\n",
    "arrayPairSum(nums)"
   ]
  },
  {
   "cell_type": "markdown",
   "id": "58aa4dc5",
   "metadata": {},
   "source": [
    "### Sol 2 Alice has n candies, where the ith candy is of type candyType[i]. Alice noticed that she started to gain weight, so she visited a doctor. The doctor advised Alice to only eat n / 2 of the candies she has (n is always even). Alice likes her candies very much, and she wants to eat the maximum number of different types of candies while still following the doctor's advice. Given the integer array candyType of length n, return the maximum number of different types of candies she can eat if she only eats n / 2 of them."
   ]
  },
  {
   "cell_type": "code",
   "execution_count": 2,
   "id": "0779b051",
   "metadata": {},
   "outputs": [
    {
     "data": {
      "text/plain": [
       "3"
      ]
     },
     "execution_count": 2,
     "metadata": {},
     "output_type": "execute_result"
    }
   ],
   "source": [
    "## Sol2\n",
    "def distributeCandies(candyType):\n",
    "        n = len(candyType) // 2 # just get the number of candies you can eat\n",
    "        LEN = len(set(candyType)) # types of different candies\n",
    "        return min(n, LEN) \n",
    "    \n",
    "candyType = [1,1,2,2,3,3]\n",
    "    \n",
    "distributeCandies(candyType)"
   ]
  },
  {
   "cell_type": "markdown",
   "id": "1e6c50a0",
   "metadata": {},
   "source": [
    "### Sol 3 We define a harmonious array as an array where the difference between its maximum value and its minimum value is exactly 1.Given an integer array nums, return the length of its longest harmonious subsequenceamong all its possible subsequences.A subsequence of an array is a sequence that can be derived from the array by deleting some or no elements without changing the order of the remaining elements."
   ]
  },
  {
   "cell_type": "code",
   "execution_count": 4,
   "id": "f36bc5a7",
   "metadata": {},
   "outputs": [
    {
     "data": {
      "text/plain": [
       "5"
      ]
     },
     "execution_count": 4,
     "metadata": {},
     "output_type": "execute_result"
    }
   ],
   "source": [
    "## Sol 3\n",
    "\n",
    "from collections import Counter\n",
    "\n",
    "def findLHS(nums):\n",
    "    tmp = Counter(nums)\n",
    "    maxl = 0\n",
    "    for num,i in tmp.items():\n",
    "        if num - 1 in tmp:\n",
    "            maxl = max(maxl,tmp[num - 1] + tmp[num])\n",
    "    return maxl\n",
    "\n",
    "nums=[1,3,2,2,5,2,3,7]\n",
    "\n",
    "\n",
    "findLHS(nums)\n"
   ]
  },
  {
   "cell_type": "markdown",
   "id": "4f14a98c",
   "metadata": {},
   "source": [
    "###  Sol 4 You have a long flowerbed in which some of the plots are planted, and some are not.However, flowers cannot be planted in adjacent plots.Given an integer array flowerbed containing 0's and 1's, where 0 means empty and 1 means not empty, and an integer n, return true if n new flowers can be planted in the flowerbed without violating the no-adjacent-flowers rule and false otherwise.\n"
   ]
  },
  {
   "cell_type": "code",
   "execution_count": 7,
   "id": "4e66082b",
   "metadata": {},
   "outputs": [
    {
     "data": {
      "text/plain": [
       "True"
      ]
     },
     "execution_count": 7,
     "metadata": {},
     "output_type": "execute_result"
    }
   ],
   "source": [
    "### Sol 4 \n",
    "\n",
    "def canPlaceFlowers(flowerbed, n):\n",
    "        if n == 0:\n",
    "            return True\n",
    "        for i in range(len(flowerbed)):\n",
    "            if flowerbed[i] == 0 and (i == 0 or flowerbed[i-1] == 0) and (i == len(flowerbed)-1 or flowerbed[i+1] == 0):\n",
    "                flowerbed[i] = 1\n",
    "                n -= 1\n",
    "                if n == 0:\n",
    "                    return True\n",
    "        return False\n",
    "    \n",
    "flowerbed = [1,0,0,0,1]\n",
    "n = 1\n",
    "canPlaceFlowers( flowerbed, n)\n",
    "    \n"
   ]
  },
  {
   "cell_type": "markdown",
   "id": "86c6a9bf",
   "metadata": {},
   "source": [
    "### Sol 5 Given an integer array nums, find three numbers whose product is maximum and return the maximum product."
   ]
  },
  {
   "cell_type": "code",
   "execution_count": 8,
   "id": "c31a17d7",
   "metadata": {},
   "outputs": [
    {
     "data": {
      "text/plain": [
       "6"
      ]
     },
     "execution_count": 8,
     "metadata": {},
     "output_type": "execute_result"
    }
   ],
   "source": [
    "### Sol 5 \n",
    "\n",
    "def maximumProduct(a):\n",
    "    a.sort(reverse=True)\n",
    "    v1=a[0]*a[1]*a[2]\n",
    "    v2=a[0]*a[-1]*a[-2]\n",
    "    return max(v1,v2)\n",
    "\n",
    "a=[1,2,3]\n",
    "maximumProduct(a)"
   ]
  },
  {
   "cell_type": "markdown",
   "id": "39b26075",
   "metadata": {},
   "source": [
    "###  Sol 6 Given an array of integers nums which is sorted in ascending order, and an integer target,write a function to search target in nums. If target exists, then return its index. Otherwise,return -1."
   ]
  },
  {
   "cell_type": "code",
   "execution_count": 9,
   "id": "e2dd229f",
   "metadata": {},
   "outputs": [
    {
     "data": {
      "text/plain": [
       "4"
      ]
     },
     "execution_count": 9,
     "metadata": {},
     "output_type": "execute_result"
    }
   ],
   "source": [
    "### Sol 6 \n",
    "\n",
    "def search(nums,target):\n",
    "        low, high = 0, len(nums)-1\n",
    "        while low<high:\n",
    "            mid = (low + high)//2\n",
    "            if nums[mid]==target:\n",
    "                return mid\n",
    "            elif nums[mid]>target:\n",
    "                high = mid - 1\n",
    "            else:\n",
    "                low = mid + 1\n",
    "        if nums[low]==target: \n",
    "            return low\n",
    "        return -1\n",
    "    \n",
    "nums = [-1,0,3,5,9,12]\n",
    "target = 9\n",
    "\n",
    "search(nums,target)"
   ]
  },
  {
   "cell_type": "markdown",
   "id": "6aaf03c9",
   "metadata": {},
   "source": [
    "### Sol 7 An array is monotonic if it is either monotone increasing or monotone decreasing.An array nums is monotone increasing if for all i <= j, nums[i] <= nums[j]. An array nums ismonotone decreasing if for all i <= j, nums[i] >= nums[j].Given an integer array nums, return true if the given array is monotonic, or false otherwise."
   ]
  },
  {
   "cell_type": "code",
   "execution_count": 10,
   "id": "067345b6",
   "metadata": {},
   "outputs": [
    {
     "data": {
      "text/plain": [
       "True"
      ]
     },
     "execution_count": 10,
     "metadata": {},
     "output_type": "execute_result"
    }
   ],
   "source": [
    "### Sol 7 \n",
    "\n",
    "def isMonotonic(nums):\n",
    "        monotone_increasing = monotone_decreasing = True\n",
    "        for i in range(1, len(nums)):\n",
    "            if nums[i] > nums[i-1]:\n",
    "                monotone_decreasing = False\n",
    "            if nums[i] < nums[i-1] :\n",
    "                monotone_increasing = False\n",
    "        return monotone_increasing or monotone_decreasing\n",
    "    \n",
    "nums = [1,2,2,3]\n",
    "\n",
    "isMonotonic(nums)"
   ]
  },
  {
   "cell_type": "markdown",
   "id": "e85206eb",
   "metadata": {},
   "source": [
    "### Sol 8 You are given an integer array nums and an integer k.In one operation, you can choose any index i where 0 <= i < nums.length and change nums[i] to nums[i] + x where x is an integer from the range [-k, k]. You can apply this operation at most once for each index i.The score of nums is the difference between the maximum and minimum elements in nums.Return the minimum score of nums after applying the mentioned operation at most once for each index in it."
   ]
  },
  {
   "cell_type": "code",
   "execution_count": 14,
   "id": "95b67e70",
   "metadata": {},
   "outputs": [
    {
     "data": {
      "text/plain": [
       "0"
      ]
     },
     "execution_count": 14,
     "metadata": {},
     "output_type": "execute_result"
    }
   ],
   "source": [
    "### Sol 8 \n",
    "\n",
    "def smallestRangeI(nums, K):\n",
    "    maxi = max(nums)\n",
    "    mini = min(nums)\n",
    "    return max(0, maxi-K-mini-K)\n",
    "    \n",
    "nums = [1]\n",
    "K = 0\n",
    "\n",
    "smallestRangeI(nums, K)"
   ]
  },
  {
   "cell_type": "code",
   "execution_count": null,
   "id": "9901036f",
   "metadata": {},
   "outputs": [],
   "source": []
  }
 ],
 "metadata": {
  "kernelspec": {
   "display_name": "Python 3 (ipykernel)",
   "language": "python",
   "name": "python3"
  },
  "language_info": {
   "codemirror_mode": {
    "name": "ipython",
    "version": 3
   },
   "file_extension": ".py",
   "mimetype": "text/x-python",
   "name": "python",
   "nbconvert_exporter": "python",
   "pygments_lexer": "ipython3",
   "version": "3.10.9"
  }
 },
 "nbformat": 4,
 "nbformat_minor": 5
}
