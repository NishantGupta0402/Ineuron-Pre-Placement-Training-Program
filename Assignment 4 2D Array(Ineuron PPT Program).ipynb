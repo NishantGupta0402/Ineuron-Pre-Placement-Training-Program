{
 "cells": [
  {
   "cell_type": "markdown",
   "id": "9030c485",
   "metadata": {},
   "source": [
    "### Sol 1 Given three integer arrays arr1, arr2 and arr3 sorted in strictly increasing order, return a sorted array of only the integers that appeared in all three arrays."
   ]
  },
  {
   "cell_type": "code",
   "execution_count": 3,
   "id": "55257c14",
   "metadata": {},
   "outputs": [
    {
     "name": "stdout",
     "output_type": "stream",
     "text": [
      "1 5 "
     ]
    }
   ],
   "source": [
    "### Sol 1\n",
    "\n",
    "def findCommon(a, b, c, n1, n2, n3):\n",
    " \n",
    "    uset = set()\n",
    "    uset2 = set()\n",
    "    uset3 = set()\n",
    "    for i in range(n1):\n",
    "        uset.add(a[i])\n",
    " \n",
    "    for i in range(n2):\n",
    "        uset2.add(b[i])\n",
    " \n",
    "    # checking if elements of 3rd array are present in first 2 sets\n",
    "    for i in range(n3):\n",
    " \n",
    "        if(c[i] in uset and c[i] in uset2):\n",
    " \n",
    "            # using a 3rd set to prevent duplicates\n",
    "            if c[i] not in uset3:\n",
    "                print(c[i], end = \" \")\n",
    "            uset3.add(c[i])\n",
    "            \n",
    "a =  [1,2,3,4,5]\n",
    "b =  [1,2,5,7,9]\n",
    "c= [1,3,4,5,8]\n",
    "n1 = len(a)\n",
    "n2 = len(b)\n",
    "n3 = len(c)\n",
    "\n",
    "findCommon(a, b, c, n1, n2, n3)\n",
    "            \n"
   ]
  },
  {
   "cell_type": "markdown",
   "id": "592d29d2",
   "metadata": {},
   "source": [
    "###  Sol 2 Given two **0-indexed** integer arrays nums1 and nums2, return *a list* answer *of size* 2 *where:*answer[0] *is a list of all **distinct** integers in* nums1 *which are **not** present in* nums2*.*answer[1] *is a list of all **distinct** integers in* nums2 *which are **not** present in* nums1."
   ]
  },
  {
   "cell_type": "code",
   "execution_count": 4,
   "id": "43d987ec",
   "metadata": {},
   "outputs": [
    {
     "data": {
      "text/plain": [
       "([1, 3], [4, 6])"
      ]
     },
     "execution_count": 4,
     "metadata": {},
     "output_type": "execute_result"
    }
   ],
   "source": [
    "### Sol 2 \n",
    "\n",
    "def findDifference(n1, n2):\n",
    "        n1, n2 = list(dict.fromkeys(n1)), list(dict.fromkeys(n2))\n",
    "        return [x for x in n1 if x not in n2], [x for x in n2 if x not in n1]\n",
    "    \n",
    "n1 = [1,2,3]\n",
    "n2 = [2,4,6]\n",
    "\n",
    "findDifference(n1, n2)\n"
   ]
  },
  {
   "cell_type": "markdown",
   "id": "c79917ce",
   "metadata": {},
   "source": [
    "### Sol 3 Given a 2D integer array matrix, return *the **transpose** of* matrix.The **transpose** of a matrix is the matrix flipped over its main diagonal, switching the matrix's row and column indices.\n",
    "\n"
   ]
  },
  {
   "cell_type": "code",
   "execution_count": 6,
   "id": "3c409ee0",
   "metadata": {},
   "outputs": [
    {
     "data": {
      "text/plain": [
       "[(1, 4, 7), (2, 5, 8), (3, 6, 9)]"
      ]
     },
     "execution_count": 6,
     "metadata": {},
     "output_type": "execute_result"
    }
   ],
   "source": [
    "### Sol 3\n",
    "def transpose(matrix):\n",
    "        return [e for e in zip(*matrix)]\n",
    "    \n",
    "matrix = [[1,2,3],[4,5,6],[7,8,9]]\n",
    "\n",
    "transpose(matrix)"
   ]
  },
  {
   "cell_type": "markdown",
   "id": "47a3b2bf",
   "metadata": {},
   "source": [
    "### Sol 4  Given an integer array nums of 2n integers, group these integers into n pairs (a1, b1), (a2, b2), ..., (an, bn) such that the sum of min(ai, bi) for all i is maximized. Return the maximized sum."
   ]
  },
  {
   "cell_type": "code",
   "execution_count": null,
   "id": "f5c99e1b",
   "metadata": {},
   "outputs": [],
   "source": [
    "### Sol 4 \n",
    "\n",
    "def arrayPairSum( nums):\n",
    "        nums.sort()\n",
    "        sum_ = 0\n",
    "        for i in range(0,len(nums),2):\n",
    "            sum_ += nums[i]\n",
    "        return sum_\n",
    "    \n",
    "nums = [1,4,3,2]\n",
    "\n",
    "arrayPairSum(nums)"
   ]
  },
  {
   "cell_type": "markdown",
   "id": "47a99ef7",
   "metadata": {},
   "source": [
    "### Sol 5 You have n coins and you want to build a staircase with these coins. The staircase consists of k rows where the ith row has exactly i coins. The last row of the staircase may be incomplete."
   ]
  },
  {
   "cell_type": "code",
   "execution_count": 13,
   "id": "c5b8729d",
   "metadata": {},
   "outputs": [
    {
     "data": {
      "text/plain": [
       "2"
      ]
     },
     "execution_count": 13,
     "metadata": {},
     "output_type": "execute_result"
    }
   ],
   "source": [
    "### Sol 5 \n",
    "\n",
    "def arrangeCoin(n):\n",
    "    completeStairs = 0\n",
    "\n",
    "    start = 1\n",
    "    end = (n + 1) // 2\n",
    "        \n",
    "    while start <= end:\n",
    "          mid = start + (end - start) // 2\n",
    "        \n",
    "          if (mid * ( mid + 1)) // 2 <= n:\n",
    "                    completeStairs = mid\n",
    "                    start = mid + 1\n",
    "          else:\n",
    "                end = mid - 1\n",
    "\n",
    "\n",
    "    return completeStairs\n",
    "\n",
    "arrangeCoin(5)"
   ]
  },
  {
   "cell_type": "markdown",
   "id": "fc96a6fa",
   "metadata": {},
   "source": [
    "### Sol 6 Given an integer array nums sorted in non-decreasing order, return an array of the squares of each number sorted in non-decreasing order."
   ]
  },
  {
   "cell_type": "code",
   "execution_count": 14,
   "id": "103556ad",
   "metadata": {},
   "outputs": [
    {
     "data": {
      "text/plain": [
       "[0, 1, 9, 16, 100]"
      ]
     },
     "execution_count": 14,
     "metadata": {},
     "output_type": "execute_result"
    }
   ],
   "source": [
    "## Sol 6\n",
    "def sortedSquares( nums):\n",
    "        result = [0]*len(nums)\n",
    "        i = 0\n",
    "        j = len(nums)-1\n",
    "        k = len(nums)-1\n",
    "        while k>=0:\n",
    "            if nums[i]*nums[i] <= nums[j]*nums[j]:\n",
    "                result[k] = nums[j]*nums[j]\n",
    "                k-=1\n",
    "                j-=1\n",
    "            else:\n",
    "                result[k] = nums[i]*nums[i]\n",
    "                i+=1\n",
    "                k-=1\n",
    "        return result        \n",
    "    \n",
    "nums = [-4,-1,0,3,10]\n",
    "\n",
    "sortedSquares(nums)"
   ]
  },
  {
   "cell_type": "markdown",
   "id": "e8536d37",
   "metadata": {},
   "source": [
    "### Sol 8 Given the array nums consisting of 2n elements in the form [x1,x2,...,xn,y1,y2,...,yn].Return the array in the form* [x1,y1,x2,y2,...,xn,yn]."
   ]
  },
  {
   "cell_type": "code",
   "execution_count": 17,
   "id": "82a703a5",
   "metadata": {},
   "outputs": [
    {
     "data": {
      "text/plain": [
       "[2, 3, 5, 4, 1, 7]"
      ]
     },
     "execution_count": 17,
     "metadata": {},
     "output_type": "execute_result"
    }
   ],
   "source": [
    "### Sol 8\n",
    "\n",
    " changed = [1,3,4,2,6,8]\n",
    "def shuffle(nums, n):\n",
    "    f=nums[:n]\n",
    "    s=nums[n:]\n",
    "    ans=[]\n",
    "    for i in range(len(f)):\n",
    "        ans.append(f[i])\n",
    "        ans.append(s[i])\n",
    "    return ans\n",
    "    \n",
    "\n",
    "nums = [2,5,1,3,4,7]\n",
    "n = 3\n",
    "\n",
    "shuffle(nums, n)"
   ]
  },
  {
   "cell_type": "code",
   "execution_count": null,
   "id": "cae29aa3",
   "metadata": {},
   "outputs": [],
   "source": []
  }
 ],
 "metadata": {
  "kernelspec": {
   "display_name": "Python 3 (ipykernel)",
   "language": "python",
   "name": "python3"
  },
  "language_info": {
   "codemirror_mode": {
    "name": "ipython",
    "version": 3
   },
   "file_extension": ".py",
   "mimetype": "text/x-python",
   "name": "python",
   "nbconvert_exporter": "python",
   "pygments_lexer": "ipython3",
   "version": "3.10.9"
  }
 },
 "nbformat": 4,
 "nbformat_minor": 5
}
