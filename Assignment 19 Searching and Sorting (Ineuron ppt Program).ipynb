{
 "cells": [
  {
   "cell_type": "markdown",
   "id": "43388832",
   "metadata": {},
   "source": [
    "### Sol 2 Given an integer array nums, return an integer array counts where counts[i] is the number of smaller elements to the right of nums[i]."
   ]
  },
  {
   "cell_type": "code",
   "execution_count": 2,
   "id": "f5684dac",
   "metadata": {},
   "outputs": [
    {
     "name": "stdout",
     "output_type": "stream",
     "text": [
      "2 1 1 0 \n"
     ]
    }
   ],
   "source": [
    "##Sol 2\n",
    "\n",
    "def constructLowerArray(arr, countSmaller, n):\n",
    " \n",
    "    # initialize all the counts in countSmaller array as 0\n",
    "    for i in range(n):\n",
    "        countSmaller[i] = 0\n",
    " \n",
    "    for i in range(n):\n",
    "        for j in range(i + 1, n):\n",
    "            if (arr[j] < arr[i]):\n",
    "                countSmaller[i] += 1\n",
    " \n",
    " \n",
    "def printArray(arr, size):\n",
    "    for i in range(size):\n",
    "        print(arr[i], end=\" \")\n",
    "    print()\n",
    " \n",
    " \n",
    "# Driver code\n",
    "arr = [5,2,6,1]\n",
    "n = len(arr)\n",
    "low = [0]*n\n",
    "constructLowerArray(arr, low, n)\n",
    "printArray(low, n)"
   ]
  },
  {
   "cell_type": "markdown",
   "id": "7e17fb07",
   "metadata": {},
   "source": [
    "### Sol 3 Given an array of integers nums, sort the array in ascending order and return it."
   ]
  },
  {
   "cell_type": "code",
   "execution_count": 6,
   "id": "5867797f",
   "metadata": {},
   "outputs": [
    {
     "name": "stdout",
     "output_type": "stream",
     "text": [
      "[1, 2, 3, 5]\n"
     ]
    },
    {
     "data": {
      "text/plain": [
       "[0, 0, 1, 1, 2, 5]"
      ]
     },
     "execution_count": 6,
     "metadata": {},
     "output_type": "execute_result"
    }
   ],
   "source": [
    "def sortArray(arr):\n",
    "   \n",
    "        if len(arr)>1:\n",
    "            \n",
    "            mid=len(arr)//2\n",
    "            left_arr=arr[:mid]\n",
    "            right_arr=arr[mid:]\n",
    "            \n",
    "            sortArray(left_arr)\n",
    "            \n",
    "            sortArray(right_arr)\n",
    "            \n",
    "            #merge set\n",
    "            i,j=0,0\n",
    "            k=0 #merge array index\n",
    "            temp=[]\n",
    "            while i<len(left_arr) and j<len(right_arr):\n",
    "                if left_arr[i]<right_arr[j]:\n",
    "                    arr[k]=left_arr[i]\n",
    "                    i+=1\n",
    "                    # k+=1\n",
    "                else:\n",
    "                    arr[k]=right_arr[j]\n",
    "                    j+=1\n",
    "                k+=1 \n",
    "            while i<len(left_arr):\n",
    "                arr[k]=left_arr[i]\n",
    "                i+=1\n",
    "                k+=1\n",
    "                \n",
    "            while j<len(right_arr):\n",
    "                arr[k]=right_arr[j]\n",
    "                j+=1\n",
    "                k+=1\n",
    "        return arr\n",
    "    \n",
    "arr=[5,2,3,1]\n",
    "print(sortArray(arr))\n",
    "nums=[5,1,1,2,0,0]\n",
    "sortArray(nums)"
   ]
  },
  {
   "cell_type": "markdown",
   "id": "48bfca50",
   "metadata": {},
   "source": [
    "### Sol 4 Given an array of random numbers, Push all the zero’s of a given array to the end of the array. For example, if the given arrays is {1, 9, 8, 4, 0, 0, 2, 7, 0, 6, 0}, it should be changed to {1, 9, 8, 4, 2, 7, 6, 0, 0, 0, 0}. "
   ]
  },
  {
   "cell_type": "code",
   "execution_count": 8,
   "id": "16452eb5",
   "metadata": {},
   "outputs": [
    {
     "data": {
      "text/plain": [
       "[1, 9, 8, 4, 2, 7, 6, 0, 0, 0, 0]"
      ]
     },
     "execution_count": 8,
     "metadata": {},
     "output_type": "execute_result"
    }
   ],
   "source": [
    "## Sol 4\n",
    "def moveZeroes( nums):\n",
    "        slow = 0\n",
    "        for fast in range(len(nums)):\n",
    "            if nums[fast] != 0 and nums[slow] == 0:\n",
    "                nums[slow], nums[fast] = nums[fast], nums[slow]\n",
    "\n",
    "            if nums[slow] != 0:\n",
    "                slow += 1\n",
    "            \n",
    "        return nums\n",
    "                \n",
    "nums=[1, 9, 8, 4, 0, 0, 2, 7, 0, 6, 0]\n",
    "moveZeroes( nums)\n"
   ]
  },
  {
   "cell_type": "markdown",
   "id": "1dd68893",
   "metadata": {},
   "source": [
    "### Sol 6 Given two sorted arrays, the task is to merge them in a sorted manner."
   ]
  },
  {
   "cell_type": "code",
   "execution_count": 11,
   "id": "3ae925e9",
   "metadata": {},
   "outputs": [
    {
     "data": {
      "text/plain": [
       "[1, 2, 3, 4, 4, 5, 6, 8]"
      ]
     },
     "execution_count": 11,
     "metadata": {},
     "output_type": "execute_result"
    }
   ],
   "source": [
    "##Sol 6\n",
    "\n",
    "def mergeArrays(arr1, arr2, arr3):\n",
    "    i = 0\n",
    "    j = 0\n",
    "    k = 0\n",
    " \n",
    "    # traverse the arr1 and insert its element in arr3\n",
    "    while(i < len(arr1)):\n",
    "        arr3[k] = arr1[i]\n",
    "        k += 1\n",
    "        i += 1\n",
    " \n",
    "    # now traverse arr2 and insert in arr3\n",
    "    while(j < len(arr2)):\n",
    "        arr3[k] = arr2[j]\n",
    "        k += 1\n",
    "        j += 1\n",
    " \n",
    "    # sort the whole array arr3\n",
    "    arr3.sort()\n",
    "    \n",
    "    return arr3\n",
    "    \n",
    "arr1 = [ 1, 3, 4, 5]\n",
    "arr2 = [2, 4, 6, 8]\n",
    "arr3 = [0 for i in range(len(arr1)+len(arr2))]\n",
    "\n",
    "mergeArrays(arr1, arr2, arr3)\n",
    "    \n",
    "    "
   ]
  },
  {
   "cell_type": "markdown",
   "id": "21c5d61e",
   "metadata": {},
   "source": [
    "### Sol 7. **Intersection of Two Arrays**Given two integer arrays `nums1` and `nums2`, return *an array of their intersection*. Each element in the result must be **unique** and you may return the result in **any order**.\n"
   ]
  },
  {
   "cell_type": "code",
   "execution_count": 14,
   "id": "87511515",
   "metadata": {},
   "outputs": [
    {
     "name": "stdout",
     "output_type": "stream",
     "text": [
      "[2]\n",
      "[9, 4]\n"
     ]
    }
   ],
   "source": [
    "## Sol 7\n",
    "\n",
    "from collections import defaultdict\n",
    "\n",
    "class Solution5:\n",
    "    def intersection(self, nums1, nums2):\n",
    "        ans=[]\n",
    "        dc=defaultdict(lambda:0)\n",
    "        for a in nums1:\n",
    "            dc[a]=1\n",
    "        nums2=set(nums2)\n",
    "        for a in nums2:\n",
    "            if(dc[a]==1):\n",
    "                ans.append(a)\n",
    "        return ans\n",
    "    \n",
    "nums1=[1,3,4,2,2]\n",
    "nums2= [2,2]\n",
    "s5=Solution5()\n",
    "print(s5.intersection(nums1,nums2))\n",
    "nums1=[4,9,5]\n",
    "nums2= [9,4,9,8,4]\n",
    "s5=Solution5()\n",
    "print(s5.intersection(nums1,nums2))\n"
   ]
  },
  {
   "cell_type": "markdown",
   "id": "1ed84014",
   "metadata": {},
   "source": [
    "### Sol 8  Given two integer arrays nums1 and nums2, return an array of their intersection. Each element in the result must appear as many times as it shows in both arrays and you may return the result in any order."
   ]
  },
  {
   "cell_type": "code",
   "execution_count": 1,
   "id": "cb99fdec",
   "metadata": {},
   "outputs": [
    {
     "name": "stdout",
     "output_type": "stream",
     "text": [
      "[2, 2]\n"
     ]
    }
   ],
   "source": [
    "### Sol 8\n",
    "\n",
    "from collections import defaultdict\n",
    "\n",
    "class Solution8:\n",
    "    def intersection(self, nums1, nums2):\n",
    "        ans=[]\n",
    "        dc=defaultdict(lambda:0)\n",
    "        for a in nums1:\n",
    "            dc[a]=1\n",
    "        nums2\n",
    "        for a in nums2:\n",
    "            if(dc[a]==1):\n",
    "                ans.append(a)\n",
    "        return ans\n",
    "    \n",
    "nums1=[1,3,4,2,2]\n",
    "nums2= [2,2]\n",
    "s8=Solution8()\n",
    "print(s8.intersection(nums1,nums2))\n"
   ]
  },
  {
   "cell_type": "code",
   "execution_count": null,
   "id": "bf303028",
   "metadata": {},
   "outputs": [],
   "source": []
  }
 ],
 "metadata": {
  "kernelspec": {
   "display_name": "Python 3 (ipykernel)",
   "language": "python",
   "name": "python3"
  },
  "language_info": {
   "codemirror_mode": {
    "name": "ipython",
    "version": 3
   },
   "file_extension": ".py",
   "mimetype": "text/x-python",
   "name": "python",
   "nbconvert_exporter": "python",
   "pygments_lexer": "ipython3",
   "version": "3.10.9"
  }
 },
 "nbformat": 4,
 "nbformat_minor": 5
}
