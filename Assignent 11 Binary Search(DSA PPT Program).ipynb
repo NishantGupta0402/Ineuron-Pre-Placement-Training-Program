{
 "cells": [
  {
   "cell_type": "markdown",
   "id": "4df9f196",
   "metadata": {},
   "source": [
    "### Q1 Given a non-negative integer x, return the square root of x rounded down to the nearest integer. The returned integer should be non-negative as well."
   ]
  },
  {
   "cell_type": "code",
   "execution_count": 5,
   "id": "ea35092e",
   "metadata": {},
   "outputs": [
    {
     "data": {
      "text/plain": [
       "1"
      ]
     },
     "execution_count": 5,
     "metadata": {},
     "output_type": "execute_result"
    }
   ],
   "source": [
    "##Sol 1\n",
    "## Time Complexity Ologn\n",
    "\n",
    "class Solution1(object):\n",
    "    def mySqrt(self, x):\n",
    "        l, r = 0, x\n",
    "        while l <= r:\n",
    "            mid = l + (r-l)//2\n",
    "            if mid * mid <= x < (mid+1)*(mid+1):\n",
    "                return mid\n",
    "            elif x < mid * mid:\n",
    "                r = mid - 1\n",
    "            else:\n",
    "                l = mid + 1\n",
    "                \n",
    "## Driver Code\n",
    "x=1               \n",
    "s1=Solution1()\n",
    "s1.mySqrt(x)"
   ]
  },
  {
   "cell_type": "markdown",
   "id": "a4f7426c",
   "metadata": {},
   "source": [
    "### Sol 2 A peak element is an element that is strictly greater than its neighbors.Given a **0-indexed** integer array `nums`, find a peak element, and return its index. If the array contains multiple peaks, return the index to **any of the peaks**.You may imagine that `nums[-1] = nums[n] = -∞`. In other words, an element is always considered to be strictly greater than a neighbor that is outside the array."
   ]
  },
  {
   "cell_type": "code",
   "execution_count": 9,
   "id": "0032492e",
   "metadata": {},
   "outputs": [
    {
     "name": "stdout",
     "output_type": "stream",
     "text": [
      "2\n"
     ]
    },
    {
     "data": {
      "text/plain": [
       "5"
      ]
     },
     "execution_count": 9,
     "metadata": {},
     "output_type": "execute_result"
    }
   ],
   "source": [
    "##Sol 2\n",
    "## Time Complexity Ologn\n",
    "class Solution2:\n",
    "    def findPeakElement(self, nums):\n",
    "        \n",
    "        left,right=0,len(nums)-1\n",
    "        mid=(left+right)//2\n",
    "        while right-left>1:\n",
    "            if nums[mid]>nums[mid-1]:\n",
    "                if nums[mid]>nums[mid+1]:\n",
    "                    return mid\n",
    "                else:\n",
    "                    left=mid\n",
    "            else:\n",
    "                right=mid-1\n",
    "            mid=(left+right)//2\n",
    "        return mid if nums[mid]>nums[right] else right\n",
    "    \n",
    "\n",
    "nums = [1,2,3,1]\n",
    "s2=Solution2()\n",
    "print(s2.findPeakElement(nums))\n",
    "nums1= [1,2,1,3,5,6,4]\n",
    "s2.findPeakElement(nums1)"
   ]
  },
  {
   "cell_type": "markdown",
   "id": "f06b8441",
   "metadata": {},
   "source": [
    "### Sol 3 Given an array nums containing n distinct numbers in the range [0, n], return the only number in the range that is missing from the array."
   ]
  },
  {
   "cell_type": "code",
   "execution_count": 12,
   "id": "9d6ac0f3",
   "metadata": {},
   "outputs": [
    {
     "name": "stdout",
     "output_type": "stream",
     "text": [
      "2\n"
     ]
    },
    {
     "data": {
      "text/plain": [
       "8"
      ]
     },
     "execution_count": 12,
     "metadata": {},
     "output_type": "execute_result"
    }
   ],
   "source": [
    "#Sol 3\n",
    "class Solution3:\n",
    "    def missingNumber(self, nums):\n",
    "        n = len(nums) + 1\n",
    "        total = (n * (n-1)) // 2\n",
    "        \n",
    "        for num in nums:\n",
    "            total -= num\n",
    "        \n",
    "        return total\n",
    "    \n",
    "nums=[3,0,1]\n",
    "nums1=[9,6,4,2,3,5,7,0,1]\n",
    "s3=Solution3()\n",
    "print(s3.missingNumber(nums))\n",
    "s3.missingNumber(nums1)"
   ]
  },
  {
   "cell_type": "markdown",
   "id": "355d7579",
   "metadata": {},
   "source": [
    "### Sol 4 Given an array of integers `nums` containing `n + 1` integers where each integer is in the range `[1, n]` inclusive. There is only **one repeated number** in `nums`, return *this repeated number*.You must solve the problem **without** modifying the array `nums` and uses only constant extra space."
   ]
  },
  {
   "cell_type": "code",
   "execution_count": 16,
   "id": "913af25b",
   "metadata": {},
   "outputs": [
    {
     "name": "stdout",
     "output_type": "stream",
     "text": [
      "2\n"
     ]
    }
   ],
   "source": [
    "# Sol 4\n",
    "## Time Complexity Ologn\n",
    "class Solution4:\n",
    "    def findDuplicate(self, num):\n",
    "        return (sum(nums) - sum(set(nums)))\n",
    "            \n",
    "nums=[1,3,4,2,2]\n",
    "s4=Solution4()\n",
    "print(s4.findDuplicate(nums))"
   ]
  },
  {
   "cell_type": "markdown",
   "id": "60cec6fd",
   "metadata": {},
   "source": [
    "### Sol 5 Given two integer arrays nums1 and nums2, return an array of their intersection. Each element in the result must be unique and you may return the result in any order."
   ]
  },
  {
   "cell_type": "code",
   "execution_count": 19,
   "id": "b91c7b04",
   "metadata": {},
   "outputs": [
    {
     "name": "stdout",
     "output_type": "stream",
     "text": [
      "[2]\n",
      "[9, 4]\n"
     ]
    }
   ],
   "source": [
    "##Solution 5\n",
    "\n",
    "from collections import defaultdict\n",
    "\n",
    "class Solution5:\n",
    "    def intersection(self, nums1, nums2):\n",
    "        ans=[]\n",
    "        dc=defaultdict(lambda:0)\n",
    "        for a in nums1:\n",
    "            dc[a]=1\n",
    "        nums2=set(nums2)\n",
    "        for a in nums2:\n",
    "            if(dc[a]==1):\n",
    "                ans.append(a)\n",
    "        return ans\n",
    "    \n",
    "nums1=[1,3,4,2,2]\n",
    "nums2= [2,2]\n",
    "s5=Solution5()\n",
    "print(s5.intersection(nums1,nums2))\n",
    "nums1=[4,9,5]\n",
    "nums2= [9,4,9,8,4]\n",
    "s5=Solution5()\n",
    "print(s5.intersection(nums1,nums2))"
   ]
  },
  {
   "cell_type": "markdown",
   "id": "e0475527",
   "metadata": {},
   "source": [
    "### Sol 6 Suppose an array of length `n` sorted in ascending order is **rotated** between `1` and `n` times. For example, the array `nums = [0,1,2,4,5,6,7]` might become:\n",
    "\n",
    "- `[4,5,6,7,0,1,2]` if it was rotated `4` times.\n",
    "- `[0,1,2,4,5,6,7]` if it was rotated `7` times."
   ]
  },
  {
   "cell_type": "code",
   "execution_count": 22,
   "id": "40d1bb63",
   "metadata": {},
   "outputs": [
    {
     "name": "stdout",
     "output_type": "stream",
     "text": [
      "1\n",
      "0\n"
     ]
    }
   ],
   "source": [
    "##Solution 6\n",
    "## Time Complexity Ologn\n",
    "\n",
    "class Solution6:\n",
    "    def findMin(self, nums):\n",
    "        def is_valid(mid: int) -> bool:\n",
    "            return nums[mid] <= nums[-1]\n",
    "\n",
    "        invalid = -1\n",
    "        valid = len(nums) - 1\n",
    "\n",
    "        while abs(valid - invalid) > 1:\n",
    "            mid = (valid + invalid) // 2\n",
    "\n",
    "            if is_valid(mid):\n",
    "                valid = mid\n",
    "            else:\n",
    "                invalid = mid\n",
    "\n",
    "        return nums[valid]\n",
    "    \n",
    "nums=[3,4,5,1,2]\n",
    "s6=Solution6()\n",
    "print(s6.findMin(nums))\n",
    "nums=[4,5,6,7,0,1,2]\n",
    "print(s6.findMin(nums))"
   ]
  },
  {
   "cell_type": "markdown",
   "id": "d3207e10",
   "metadata": {},
   "source": [
    "### Sol 7 Given an array of integers `nums` sorted in non-decreasing order, find the starting and ending position of a given `target` value.If `target` is not found in the array, return `[-1, -1]`."
   ]
  },
  {
   "cell_type": "code",
   "execution_count": 26,
   "id": "c9015389",
   "metadata": {},
   "outputs": [
    {
     "name": "stdout",
     "output_type": "stream",
     "text": [
      "[3, 4]\n",
      "[-1, -1]\n",
      "[-1, -1]\n"
     ]
    }
   ],
   "source": [
    "##Solution 7\n",
    "class Solution7():\n",
    "      def searchRange(self, nums, target):\n",
    "        def binarysearch(nums, target, flag):\n",
    "            output=-1\n",
    "            \n",
    "            start= 0\n",
    "            end= len(nums)-1\n",
    "            \n",
    "            while start <= end :\n",
    "                mid = (start + end) // 2\n",
    "                \n",
    "                if nums[mid] > target :\n",
    "                    end = mid - 1\n",
    "                    \n",
    "                elif nums[mid] < target :\n",
    "                    start = mid + 1\n",
    "                \n",
    "                else:\n",
    "                    if flag is True:\n",
    "                        output=mid\n",
    "                        end= mid-1\n",
    "                    else:\n",
    "                        output= mid\n",
    "                        start= mid+1\n",
    "            return output\n",
    "        return [binarysearch(nums, target, True), binarysearch(nums, target, False)]\n",
    "    \n",
    "nums=[5,7,7,8,8,10]\n",
    "target= 8\n",
    "\n",
    "\n",
    "s7=Solution7()\n",
    "\n",
    "print(s7.searchRange(nums,target))\n",
    "\n",
    "nums=[5,7,7,8,8,10]\n",
    "target = 6\n",
    "\n",
    "print(s7.searchRange(nums,target))\n",
    "\n",
    "nums=[]\n",
    "target=0\n",
    "\n",
    "print(s7.searchRange(nums,target))\n"
   ]
  },
  {
   "cell_type": "markdown",
   "id": "18979b0f",
   "metadata": {},
   "source": [
    "### Sol 8 Given two integer arrays nums1 and nums2, return an array of their intersection. Each element in the result must appear as many times as it shows in both arrays and you may return the result in any order."
   ]
  },
  {
   "cell_type": "code",
   "execution_count": 28,
   "id": "2d31a5be",
   "metadata": {},
   "outputs": [
    {
     "name": "stdout",
     "output_type": "stream",
     "text": [
      "[2, 2]\n"
     ]
    }
   ],
   "source": [
    "##Solution 8\n",
    "\n",
    "from collections import defaultdict\n",
    "\n",
    "class Solution5:\n",
    "    def intersection(self, nums1, nums2):\n",
    "        ans=[]\n",
    "        dc=defaultdict(lambda:0)\n",
    "        for a in nums1:\n",
    "            dc[a]=1\n",
    "        nums2\n",
    "        for a in nums2:\n",
    "            if(dc[a]==1):\n",
    "                ans.append(a)\n",
    "        return ans\n",
    "    \n",
    "nums1=[1,3,4,2,2]\n",
    "nums2= [2,2]\n",
    "s5=Solution5()\n",
    "print(s5.intersection(nums1,nums2))\n"
   ]
  },
  {
   "cell_type": "markdown",
   "id": "f27f7ff7",
   "metadata": {},
   "source": []
  }
 ],
 "metadata": {
  "kernelspec": {
   "display_name": "Python 3 (ipykernel)",
   "language": "python",
   "name": "python3"
  },
  "language_info": {
   "codemirror_mode": {
    "name": "ipython",
    "version": 3
   },
   "file_extension": ".py",
   "mimetype": "text/x-python",
   "name": "python",
   "nbconvert_exporter": "python",
   "pygments_lexer": "ipython3",
   "version": "3.10.9"
  }
 },
 "nbformat": 4,
 "nbformat_minor": 5
}
