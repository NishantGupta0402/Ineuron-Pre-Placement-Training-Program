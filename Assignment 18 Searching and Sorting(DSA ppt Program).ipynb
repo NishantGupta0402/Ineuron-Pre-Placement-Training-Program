{
 "cells": [
  {
   "cell_type": "markdown",
   "id": "db4d241f",
   "metadata": {},
   "source": [
    "### Sol 1 Given an array of intervals where intervals[i] = [starti, endi], merge all overlapping intervals, and return an array of the non-overlapping intervals that cover all the intervals in the input."
   ]
  },
  {
   "cell_type": "code",
   "execution_count": 5,
   "id": "d58aa8ae",
   "metadata": {},
   "outputs": [
    {
     "name": "stdout",
     "output_type": "stream",
     "text": [
      "[[1, 6], [8, 10], [15, 18]]\n"
     ]
    },
    {
     "data": {
      "text/plain": [
       "[[1, 5]]"
      ]
     },
     "execution_count": 5,
     "metadata": {},
     "output_type": "execute_result"
    }
   ],
   "source": [
    "##Sol 1\n",
    "def merge(self, intervals):\n",
    "    ans = []\n",
    "    intervals.sort()\n",
    "\n",
    "    if len(intervals) == 0:\n",
    "            return ans\n",
    "\n",
    "    temp = intervals[0]\n",
    "    for interval in intervals:\n",
    "            if interval[0] <= temp[1]:\n",
    "                temp[1] = max(temp[1], interval[1])\n",
    "            else:\n",
    "                ans.append(temp)\n",
    "                temp = interval\n",
    "    ans.append(temp)\n",
    "\n",
    "    return ans\n",
    "                \n",
    "## Driver Code\n",
    "intervals = [[1,3],[2,6],[8,10],[15,18]]            \n",
    "s1=Solution1()\n",
    "print(s1.merge(intervals))\n",
    "intervals = [[1,4],[4,5]]\n",
    "s1.merge(intervals)"
   ]
  },
  {
   "cell_type": "markdown",
   "id": "64409094",
   "metadata": {},
   "source": [
    "### Sol 2 Given an array `nums` with `n` objects colored red, white, or blue, sort them **[in-place](https://en.wikipedia.org/wiki/In-place_algorithm)** so that objects of the same color are adjacent, with the colors in the order red, white, and blue.We will use the integers `0`, `1`, and `2` to represent the color red, white, and blue, respectively.You must solve this problem without using the library's sort function."
   ]
  },
  {
   "cell_type": "code",
   "execution_count": 4,
   "id": "c3e33395",
   "metadata": {},
   "outputs": [
    {
     "data": {
      "text/plain": [
       "[0, 1, 2]"
      ]
     },
     "execution_count": 4,
     "metadata": {},
     "output_type": "execute_result"
    }
   ],
   "source": [
    "##Sol 2\n",
    "def sortColors(nums):\n",
    "    p0 = curr = 0\n",
    "    p2 = len(nums) - 1\n",
    "    \n",
    "    while curr <= p2:\n",
    "        if nums[curr] == 0:\n",
    "            ## swap nums[curr] and nums[p0]\n",
    "            nums[p0], nums[curr] = nums[curr], nums[p0]\n",
    "            p0 += 1\n",
    "            curr += 1\n",
    "        elif nums[curr] == 2:\n",
    "            ## swap nums[curr] and nums[p2]\n",
    "            nums[p2], nums[curr] = nums[curr], nums[p2]\n",
    "            p2 -= 1\n",
    "        else:\n",
    "            curr += 1\n",
    "    return nums\n",
    "\n",
    "nums = [2,0,2,1,1,0]\n",
    "\n",
    "print(sortColors(nums))\n",
    "\n",
    "nums=[2,0,1]\n",
    "\n",
    "sortColors(nums)"
   ]
  },
  {
   "cell_type": "markdown",
   "id": "cfe46031",
   "metadata": {},
   "source": [
    "### Sol 3 You are a product manager and currently leading a team to develop a new product. Unfortunately, the latest version of your product fails the quality check. Since each version is developed based on the previous version, all the versions after a bad version are also bad.Suppose you have `n` versions `[1, 2, ..., n]` and you want to find out the first bad one, which causes all the following ones to be bad.You are given an API `bool isBadVersion(version)` which returns whether `version` is bad. Implement a function to find the first bad version. You should minimize the number of calls to the API."
   ]
  },
  {
   "cell_type": "code",
   "execution_count": null,
   "id": "8d430f04",
   "metadata": {},
   "outputs": [],
   "source": [
    "##Sol 3\n",
    "def firstBadVersion(n):\n",
    "        left, right = 1, n\n",
    "        while left < right:\n",
    "            mid = left + (right - left) // 2\n",
    "            if isBadVersion(mid):\n",
    "                right = mid\n",
    "            else:\n",
    "                left = mid + 1\n",
    "        return left\n",
    "    \n",
    "    \n",
    "firstBadVersion(5)"
   ]
  },
  {
   "cell_type": "markdown",
   "id": "0586aba7",
   "metadata": {},
   "source": [
    "### Sol 5 Given an integer array nums, return true if any value appears at least twice in the array, and return false if every element is distinct."
   ]
  },
  {
   "cell_type": "code",
   "execution_count": 10,
   "id": "b8babd49",
   "metadata": {},
   "outputs": [
    {
     "data": {
      "text/plain": [
       "False"
      ]
     },
     "execution_count": 10,
     "metadata": {},
     "output_type": "execute_result"
    }
   ],
   "source": [
    "##Sol 5\n",
    "def containsDuplicate(nums):\n",
    "        num_set = set()\n",
    "        for i in nums:\n",
    "            if i in num_set:\n",
    "                return True\n",
    "            else:\n",
    "                num_set.add(i)\n",
    "        return False\n",
    "    \n",
    "nums = [1,2,3,1]\n",
    "\n",
    "containsDuplicate(nums)\n",
    "\n",
    "nums = [1,2,3,4]\n",
    "\n",
    "containsDuplicate(nums)\n"
   ]
  },
  {
   "cell_type": "markdown",
   "id": "26ab902c",
   "metadata": {},
   "source": [
    "### Sol 6 There are some spherical balloons taped onto a flat wall that represents the XY-plane. The balloons are represented as a 2D integer array `points` where `points[i] = [xstart, xend]` denotes a balloon whose **horizontal diameter** stretches between `xstart` and `xend`. You do not know the exact y-coordinates of the balloons.Arrows can be shot up **directly vertically** (in the positive y-direction) from different points along the x-axis. A balloon with `xstart` and `xend` is **burst** by an arrow shot at `x` if `xstart <= x <= xend`. There is **no limit** to the number of arrows that can be shot. A shot arrow keeps traveling up infinitely, bursting any balloons in its path.Given the array `points`, return *the **minimum** number of arrows that must be shot to burst all balloons*."
   ]
  },
  {
   "cell_type": "code",
   "execution_count": 11,
   "id": "0b816da9",
   "metadata": {},
   "outputs": [
    {
     "data": {
      "text/plain": [
       "4"
      ]
     },
     "execution_count": 11,
     "metadata": {},
     "output_type": "execute_result"
    }
   ],
   "source": [
    "##Sol 6\n",
    "def findMinArrowShots( points) -> int:\n",
    "        # Sort the balloons by their end points in ascending order\n",
    "        points.sort(key=lambda x: x[1])\n",
    "        \n",
    "        # Initialize the number of arrows needed and the end point of the last arrow\n",
    "        arrows = 0\n",
    "        last_end = float('-inf')\n",
    "        \n",
    "        # Iterate through the balloons\n",
    "        for start, end in points:\n",
    "            # If the current balloon starts after the end of the last arrow, shoot a new arrow\n",
    "            if start > last_end:\n",
    "                arrows += 1\n",
    "                last_end = end\n",
    "        \n",
    "        return arrows\n",
    "    \n",
    "points = [[10,16],[2,8],[1,6],[7,12]]\n",
    "\n",
    "findMinArrowShots( points)\n",
    "\n",
    "points = [[1,2],[3,4],[5,6],[7,8]]\n",
    "\n",
    "findMinArrowShots( points)"
   ]
  },
  {
   "cell_type": "markdown",
   "id": "ea200986",
   "metadata": {},
   "source": [
    "### Sol 7 Given an integer array `nums`, return *the length of the longest **strictly increasing******subsequence***"
   ]
  },
  {
   "cell_type": "code",
   "execution_count": 14,
   "id": "98ca71a8",
   "metadata": {},
   "outputs": [
    {
     "name": "stdout",
     "output_type": "stream",
     "text": [
      "[1, 1, 1, 2, 2, 3, 4, 4]\n",
      "4\n",
      "[1, 2, 1, 3, 3, 4]\n"
     ]
    },
    {
     "data": {
      "text/plain": [
       "4"
      ]
     },
     "execution_count": 14,
     "metadata": {},
     "output_type": "execute_result"
    }
   ],
   "source": [
    "##Sol 7 \n",
    "\n",
    "def lengthOfLIS( nums):\n",
    "        if not nums:\n",
    "            return 0\n",
    "\n",
    "        n = len(nums)\n",
    "        temp = [1] * n\n",
    "\n",
    "        for i in range(1, n):\n",
    "            for j in range(i):\n",
    "                if nums[i] > nums[j]:\n",
    "                    temp[i] = max(temp[i], temp[j] + 1)\n",
    "\n",
    "        #return max(temp)\n",
    "\n",
    "        print(temp)\n",
    "        return max(temp)\n",
    "    \n",
    "nums = [10,9,2,5,3,7,101,18]\n",
    "\n",
    "print(lengthOfLIS(nums))\n",
    "\n",
    "nums = [0,1,0,3,2,3]\n",
    "\n",
    "lengthOfLIS(nums)"
   ]
  },
  {
   "cell_type": "markdown",
   "id": "57aef2c0",
   "metadata": {},
   "source": [
    "### Sol 8 Given an array of n integers nums, a 132 pattern is a subsequence of three integers nums[i], nums[j] and nums[k] such that i < j < k and nums[i] < nums[k] < nums[j]."
   ]
  },
  {
   "cell_type": "code",
   "execution_count": 16,
   "id": "6fec6323",
   "metadata": {},
   "outputs": [
    {
     "name": "stdout",
     "output_type": "stream",
     "text": [
      "False\n",
      "True\n"
     ]
    }
   ],
   "source": [
    "##Sol 8\n",
    "def find132pattern( nums):\n",
    "        stack = []\n",
    "        s3 = float('-inf')\n",
    "        \n",
    "        for i in range(len(nums)-1, -1, -1):\n",
    "            if nums[i] < s3:\n",
    "                return True\n",
    "            while stack and stack[-1] < nums[i]:\n",
    "                s3 = stack.pop()\n",
    "            stack.append(nums[i])\n",
    "        \n",
    "        return False\n",
    "    \n",
    "nums = [1,2,3,4]\n",
    "\n",
    "print(find132pattern(nums))\n",
    "\n",
    "nums = [3,1,4,2]\n",
    "\n",
    "print(find132pattern(nums))"
   ]
  },
  {
   "cell_type": "code",
   "execution_count": null,
   "id": "dcd0c74c",
   "metadata": {},
   "outputs": [],
   "source": []
  }
 ],
 "metadata": {
  "kernelspec": {
   "display_name": "Python 3 (ipykernel)",
   "language": "python",
   "name": "python3"
  },
  "language_info": {
   "codemirror_mode": {
    "name": "ipython",
    "version": 3
   },
   "file_extension": ".py",
   "mimetype": "text/x-python",
   "name": "python",
   "nbconvert_exporter": "python",
   "pygments_lexer": "ipython3",
   "version": "3.10.9"
  }
 },
 "nbformat": 4,
 "nbformat_minor": 5
}
