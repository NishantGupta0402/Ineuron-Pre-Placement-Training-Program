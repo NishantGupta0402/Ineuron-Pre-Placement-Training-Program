{
 "cells": [
  {
   "cell_type": "markdown",
   "id": "386e67ff",
   "metadata": {},
   "source": [
    "### Sol 1 Given an integer `n`, return *`true` if it is a power of two. Otherwise, return `false`*.An integer `n` is a power of two, if there exists an integer `x` such that `n == 2x`."
   ]
  },
  {
   "cell_type": "code",
   "execution_count": 6,
   "id": "b5a02c5e",
   "metadata": {},
   "outputs": [
    {
     "name": "stdout",
     "output_type": "stream",
     "text": [
      "True\n",
      "True\n",
      "False\n"
     ]
    }
   ],
   "source": [
    "def isPowerOfTwo(n):\n",
    "        # If n <= 0 that means its a negative hence not a power of 2...\n",
    "        if n <= 0:\n",
    "            return False\n",
    "        if n == 1:\n",
    "            return True\n",
    "        # Keep dividing the number by ‘2’ until it is not divisible by ‘2’ anymore.\n",
    "        while (n % 2 == 0):\n",
    "            n /= 2\n",
    "        # If n is equal to 1, The integer is a power of two otherwise false...\n",
    "        return n == 1\n",
    "    \n",
    "n=1\n",
    "\n",
    "print(isPowerOfTwo(n))\n",
    "\n",
    "    \n",
    "n=16\n",
    "\n",
    "print(isPowerOfTwo(n))\n",
    "\n",
    "    \n",
    "n=3\n",
    "\n",
    "print(isPowerOfTwo(n))\n"
   ]
  },
  {
   "cell_type": "markdown",
   "id": "92e1859d",
   "metadata": {},
   "source": [
    "### Sol 2 Given a number n, find the sum of the first natural numbers."
   ]
  },
  {
   "cell_type": "code",
   "execution_count": 14,
   "id": "3cc8d2f3",
   "metadata": {},
   "outputs": [
    {
     "data": {
      "text/plain": [
       "6"
      ]
     },
     "execution_count": 14,
     "metadata": {},
     "output_type": "execute_result"
    }
   ],
   "source": [
    "##Sol 2\n",
    "\n",
    "def recurSum(n):\n",
    "    if n <= 1:\n",
    "        return n\n",
    "    return n + recurSum(n - 1)\n",
    "\n",
    "recurSum(3)\n",
    "    "
   ]
  },
  {
   "cell_type": "markdown",
   "id": "b626ea7a",
   "metadata": {},
   "source": [
    "### Sol 3 Given a positive integer, N. Find the factorial of N. "
   ]
  },
  {
   "cell_type": "code",
   "execution_count": 16,
   "id": "cfa7006f",
   "metadata": {},
   "outputs": [
    {
     "data": {
      "text/plain": [
       "120"
      ]
     },
     "execution_count": 16,
     "metadata": {},
     "output_type": "execute_result"
    }
   ],
   "source": [
    "## Sol 3\n",
    "def recurFactorial(n):\n",
    "    if n <= 1:\n",
    "        return 1\n",
    "    return n * recurFactorial(n - 1)\n",
    "\n",
    "recurFactorial(5)"
   ]
  },
  {
   "cell_type": "markdown",
   "id": "3e74f4d5",
   "metadata": {},
   "source": [
    "### Sol 4 Given a number N and a power P, the task is to find the exponent of this number raised to the given power, i.e. N^P."
   ]
  },
  {
   "cell_type": "code",
   "execution_count": 19,
   "id": "8399509c",
   "metadata": {},
   "outputs": [
    {
     "name": "stdout",
     "output_type": "stream",
     "text": [
      "32\n"
     ]
    },
    {
     "data": {
      "text/plain": [
       "25"
      ]
     },
     "execution_count": 19,
     "metadata": {},
     "output_type": "execute_result"
    }
   ],
   "source": [
    "###Sol 4 \n",
    "\n",
    "def power(base,exp):\n",
    "    if(exp==1):\n",
    "        return(base)\n",
    "    if(exp!=1):\n",
    "        return(base*power(base,exp-1))\n",
    "    \n",
    "print(power(2,5))\n",
    "power(5,2)"
   ]
  },
  {
   "cell_type": "markdown",
   "id": "dad0d2b9",
   "metadata": {},
   "source": [
    "### Sol 5 Given an array of integers arr, the task is to find maximum element of that array using recursion"
   ]
  },
  {
   "cell_type": "code",
   "execution_count": 24,
   "id": "a0fdc87d",
   "metadata": {},
   "outputs": [
    {
     "name": "stdout",
     "output_type": "stream",
     "text": [
      "8\n"
     ]
    },
    {
     "data": {
      "text/plain": [
       "45"
      ]
     },
     "execution_count": 24,
     "metadata": {},
     "output_type": "execute_result"
    }
   ],
   "source": [
    "### Sol 5\n",
    "def findMaxRec(arr, n):\n",
    " \n",
    "\n",
    "    if (n == 1):\n",
    "        return arr[0]\n",
    "    return max(arr[n - 1], findMaxRec(arr, n - 1))\n",
    "\n",
    "arr = [1, 4, 3, -5, -4, 8, 6]\n",
    "\n",
    "print(findMaxRec(arr,len(arr)))\n",
    "\n",
    "arr = [1, 4, 45, 6, 10, -8]\n",
    "\n",
    "findMaxRec(arr,len(arr))\n"
   ]
  },
  {
   "cell_type": "markdown",
   "id": "bd075d0c",
   "metadata": {},
   "source": [
    "### Sol 6 Given first term (a), common difference (d) and a integer N of the Arithmetic Progression series, the task is to find Nth term of the series."
   ]
  },
  {
   "cell_type": "code",
   "execution_count": 27,
   "id": "61ad31ea",
   "metadata": {},
   "outputs": [
    {
     "data": {
      "text/plain": [
       "23"
      ]
     },
     "execution_count": 27,
     "metadata": {},
     "output_type": "execute_result"
    }
   ],
   "source": [
    "## Sol 6 \n",
    "def Nth_of_AP(a, d, N) :\n",
    " \n",
    "\n",
    "    return (a + (N - 1) * d)\n",
    "\n",
    "Nth_of_AP(2,1,5)\n",
    "Nth_of_AP(5, 2, 10)\n"
   ]
  },
  {
   "cell_type": "markdown",
   "id": "e700ae53",
   "metadata": {},
   "source": [
    "### Sol 7 Given a string S, the task is to write a program to print all permutations of a given string."
   ]
  },
  {
   "cell_type": "code",
   "execution_count": 29,
   "id": "c14a2048",
   "metadata": {},
   "outputs": [
    {
     "name": "stdout",
     "output_type": "stream",
     "text": [
      "ABC  ACB  BAC  BCA  CAB  CBA  None\n",
      "XY  YX  "
     ]
    }
   ],
   "source": [
    "def permute(s, answer):\n",
    "    if (len(s) == 0):\n",
    "        print(answer, end=\"  \")\n",
    "        return\n",
    " \n",
    "    for i in range(len(s)):\n",
    "        ch = s[i]\n",
    "        left_substr = s[0:i]\n",
    "        right_substr = s[i + 1:]\n",
    "        rest = left_substr + right_substr\n",
    "        permute(rest, answer + ch)\n",
    " \n",
    " \n",
    "# Driver Code\n",
    "answer = \"\"\n",
    " \n",
    "s = \"ABC\"\n",
    " \n",
    "print(permute(s, answer))\n",
    "\n",
    "s1=\"XY\"\n",
    "\n",
    "permute(s1,answer)"
   ]
  },
  {
   "cell_type": "markdown",
   "id": "35850aa5",
   "metadata": {},
   "source": [
    "### Sol 8 Given an array, find a product of all array elements."
   ]
  },
  {
   "cell_type": "code",
   "execution_count": 30,
   "id": "eeafe6fa",
   "metadata": {},
   "outputs": [
    {
     "name": "stdout",
     "output_type": "stream",
     "text": [
      "120\n"
     ]
    }
   ],
   "source": [
    "## Sol 8\n",
    "\n",
    "def product(ar, n):\n",
    "  \n",
    "    result = 1\n",
    "    for i in range(0, n):\n",
    "        result = result * ar[i]\n",
    "    return result\n",
    "  \n",
    "ar = [ 1, 2, 3, 4, 5 ]\n",
    "n = len(ar)\n",
    "  \n",
    "print(product(ar, n))"
   ]
  },
  {
   "cell_type": "code",
   "execution_count": null,
   "id": "8abc17ca",
   "metadata": {},
   "outputs": [],
   "source": []
  }
 ],
 "metadata": {
  "kernelspec": {
   "display_name": "Python 3 (ipykernel)",
   "language": "python",
   "name": "python3"
  },
  "language_info": {
   "codemirror_mode": {
    "name": "ipython",
    "version": 3
   },
   "file_extension": ".py",
   "mimetype": "text/x-python",
   "name": "python",
   "nbconvert_exporter": "python",
   "pygments_lexer": "ipython3",
   "version": "3.7.4"
  }
 },
 "nbformat": 4,
 "nbformat_minor": 5
}
