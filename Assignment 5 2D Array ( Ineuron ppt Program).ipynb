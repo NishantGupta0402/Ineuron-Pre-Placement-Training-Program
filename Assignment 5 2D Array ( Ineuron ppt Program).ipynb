{
 "cells": [
  {
   "cell_type": "markdown",
   "id": "e5716963",
   "metadata": {},
   "source": [
    "### Sol 1 You are given a **0-indexed** 1-dimensional (1D) integer array original, and two integers, m and n. You are tasked with creating a 2-dimensional (2D) array with  m rows and n columns using **all** the elements from original.The elements from indices 0 to n - 1 (**inclusive**) of original should form the first row of the constructed 2D array, the elements from indices n to 2 * n - 1 (**inclusive**) should form the second row of the constructed 2D array, and so on.Return *an* m x n *2D array constructed according to the above procedure, or an empty 2D array if it is impossible*."
   ]
  },
  {
   "cell_type": "code",
   "execution_count": 1,
   "id": "811eb2f7",
   "metadata": {},
   "outputs": [
    {
     "data": {
      "text/plain": [
       "[[1, 2], [3, 4]]"
      ]
     },
     "execution_count": 1,
     "metadata": {},
     "output_type": "execute_result"
    }
   ],
   "source": [
    "## Sol 1\n",
    "\n",
    "def construct2DArray(original, m,n):\n",
    "        if len(original) != m*n: \n",
    "            return []\n",
    "        \n",
    "        res = [[None for j in range(n)] for i in range(m)]\n",
    "        k = 0\n",
    "        \n",
    "        for i in range(m):\n",
    "            for j in range(n):\n",
    "                res[i][j] = original[k]\n",
    "                k += 1\n",
    "        \n",
    "        return res\n",
    "\n",
    "original = [1,2,3,4]\n",
    "m = 2\n",
    "n = 2\n",
    "\n",
    "construct2DArray(original, m,n)"
   ]
  },
  {
   "cell_type": "markdown",
   "id": "ef983734",
   "metadata": {},
   "source": [
    "### Sol 2 ou have n coins and you want to build a staircase with these coins. The staircase consists of k rows where the ith row has exactly i coins. The last row of the staircase **may be** incomplete.Given the integer n, return *the number of **complete rows** of the staircase you will build*."
   ]
  },
  {
   "cell_type": "code",
   "execution_count": 2,
   "id": "a0061059",
   "metadata": {},
   "outputs": [
    {
     "data": {
      "text/plain": [
       "2"
      ]
     },
     "execution_count": 2,
     "metadata": {},
     "output_type": "execute_result"
    }
   ],
   "source": [
    "### Sol 2\n",
    "\n",
    "def arrangeCoin(n):\n",
    "    completeStairs = 0\n",
    "\n",
    "    start = 1\n",
    "    end = (n + 1) // 2\n",
    "        \n",
    "    while start <= end:\n",
    "          mid = start + (end - start) // 2\n",
    "        \n",
    "          if (mid * ( mid + 1)) // 2 <= n:\n",
    "                    completeStairs = mid\n",
    "                    start = mid + 1\n",
    "          else:\n",
    "                end = mid - 1\n",
    "\n",
    "\n",
    "    return completeStairs\n",
    "\n",
    "arrangeCoin(5)"
   ]
  },
  {
   "cell_type": "markdown",
   "id": "64cdc60c",
   "metadata": {},
   "source": [
    "### Sol 3 Given an integer array nums sorted in non-decreasing order, return an array of the squares of each number sorted in non-decreasing order."
   ]
  },
  {
   "cell_type": "code",
   "execution_count": 7,
   "id": "0670dac1",
   "metadata": {},
   "outputs": [
    {
     "data": {
      "text/plain": [
       "[0, 1, 9, 16, 100]"
      ]
     },
     "execution_count": 7,
     "metadata": {},
     "output_type": "execute_result"
    }
   ],
   "source": [
    "### Sol 3\n",
    "\n",
    "def sortedSquares(nums):\n",
    "        result = [0]*len(nums)\n",
    "        i = 0\n",
    "        j = len(nums)-1\n",
    "        k = len(nums)-1\n",
    "        while k>=0:\n",
    "            if nums[i]*nums[i] <= nums[j]*nums[j]:\n",
    "                result[k] = nums[j]*nums[j]\n",
    "                k-=1\n",
    "                j-=1\n",
    "            else:\n",
    "                result[k] = nums[i]*nums[i]\n",
    "                i+=1\n",
    "                k-=1\n",
    "        return result   \n",
    "        \n",
    "arr= [-4,-1,0,3,10]\n",
    "\n",
    "sortedSquares(nums)"
   ]
  },
  {
   "cell_type": "markdown",
   "id": "a5f455a7",
   "metadata": {},
   "source": [
    "### Sol 5 Given two integer arrays arr1 and arr2, and the integer d, *return the distance value between the two arrays*.The distance value is defined as the number of elements arr1[i] such that there is not any element arr2[j] where |arr1[i]-arr2[j]| <= d."
   ]
  },
  {
   "cell_type": "code",
   "execution_count": 8,
   "id": "e51e4a11",
   "metadata": {},
   "outputs": [
    {
     "data": {
      "text/plain": [
       "2"
      ]
     },
     "execution_count": 8,
     "metadata": {},
     "output_type": "execute_result"
    }
   ],
   "source": [
    "## Sol 5\n",
    "\n",
    "def findTheDistanceValue( arr1, arr2, d):\n",
    "\n",
    "        arr2.sort()\n",
    "        distance = len(arr1)\n",
    "        for num in arr1:\n",
    "            start = 0\n",
    "            end = len(arr2) - 1\n",
    "            while start <= end:\n",
    "                mid = (start+end)//2\n",
    "                if abs(num- arr2[mid]) <= d:\n",
    "                    distance -= 1\n",
    "                    break\n",
    "                elif arr2[mid] > num :\n",
    "                    end = mid-1\n",
    "                elif arr2[mid] < num :\n",
    "                    start = mid+1\n",
    "        return distance\n",
    "    \n",
    "arr1 = [4,5,8]\n",
    "arr2 = [10,9,1,8]\n",
    "d = 2\n",
    "\n",
    "findTheDistanceValue( arr1, arr2, d)"
   ]
  },
  {
   "cell_type": "markdown",
   "id": "397850c2",
   "metadata": {},
   "source": [
    "### Sol 6 Given an integer array nums of length n where all the integers of nums are in the range [1, n] and each integer appears **once** or **twice**, return *an array of all the integers that appears **twice***.\n",
    "\n"
   ]
  },
  {
   "cell_type": "code",
   "execution_count": 9,
   "id": "74558dde",
   "metadata": {},
   "outputs": [
    {
     "data": {
      "text/plain": [
       "[2, 3]"
      ]
     },
     "execution_count": 9,
     "metadata": {},
     "output_type": "execute_result"
    }
   ],
   "source": [
    "### Sol 6\n",
    "\n",
    "def findDuplicates(nums):\n",
    "        result = []\n",
    "        \n",
    "        for i in range(len(nums)):\n",
    "            index = abs(nums[i])-1\n",
    "            if nums[index] < 0:\n",
    "                result.append(index+1)\n",
    "            else:\n",
    "                nums[index] = -nums[index]\n",
    "                \n",
    "        return result\n",
    "    \n",
    "nums = [4,3,2,7,8,2,3,1]\n",
    "findDuplicates(nums)"
   ]
  },
  {
   "cell_type": "markdown",
   "id": "6f9fa4e7",
   "metadata": {},
   "source": [
    "### Sol 7 Suppose an array of length n sorted in ascending order is **rotated** between 1 and n times. For example, the array nums = [0,1,2,4,5,6,7] might become:\n",
    "\n",
    "- [4,5,6,7,0,1,2] if it was rotated 4 times.\n",
    "- [0,1,2,4,5,6,7] if it was rotated 7 times.\n",
    "\n",
    "Notice that **rotating** an array [a[0], a[1], a[2], ..., a[n-1]] 1 time results in the array [a[n-1], a[0], a[1], a[2], ..., a[n-2]].\n",
    "\n",
    "Given the sorted rotated array nums of **unique** elements, return *the minimum element of this array*."
   ]
  },
  {
   "cell_type": "code",
   "execution_count": 11,
   "id": "fc261fe0",
   "metadata": {},
   "outputs": [
    {
     "data": {
      "text/plain": [
       "1"
      ]
     },
     "execution_count": 11,
     "metadata": {},
     "output_type": "execute_result"
    }
   ],
   "source": [
    "## Sol 7 \n",
    "\n",
    "def findMin(nums):\n",
    "        def is_valid(mid):\n",
    "            return nums[mid] <= nums[-1]\n",
    "\n",
    "        invalid = -1\n",
    "        valid = len(nums) - 1\n",
    "\n",
    "        while abs(valid - invalid) > 1:\n",
    "            mid = (valid + invalid) // 2\n",
    "\n",
    "            if is_valid(mid):\n",
    "                valid = mid\n",
    "            else:\n",
    "                invalid = mid\n",
    "\n",
    "        return nums[valid]\n",
    "    \n",
    "nums=[3,4,5,1,2]\n",
    "\n",
    "findMin(nums)"
   ]
  },
  {
   "cell_type": "markdown",
   "id": "c47211dd",
   "metadata": {},
   "source": [
    "### Sol 8 An integer array original is transformed into a **doubled** array changed by appending **twice the value** of every element in original, and then randomly **shuffling** the resulting array.Given an array changed, return original *if* changed *is a **doubled** array. If* changed *is not a **doubled** array, return an empty array. The elements in* original *may be returned in **any** order*."
   ]
  },
  {
   "cell_type": "code",
   "execution_count": 14,
   "id": "234b0517",
   "metadata": {},
   "outputs": [
    {
     "data": {
      "text/plain": [
       "[1, 3, 4]"
      ]
     },
     "execution_count": 14,
     "metadata": {},
     "output_type": "execute_result"
    }
   ],
   "source": [
    "### Sol 8\n",
    "\n",
    "from collections import deque\n",
    "\n",
    "def findOriginalArray(changed):\n",
    "        changed.sort()\n",
    "        stk,res=deque([]),[]\n",
    "        for i in changed:\n",
    "            if stk and stk[0]*2==i:\n",
    "                b=stk.popleft()\n",
    "                res.append(b)\n",
    "            else:\n",
    "                stk.append(i)\n",
    "        return res if not stk else []\n",
    "    \n",
    "changed = [1,3,4,2,6,8]\n",
    "findOriginalArray(changed)"
   ]
  },
  {
   "cell_type": "code",
   "execution_count": null,
   "id": "dbc92c36",
   "metadata": {},
   "outputs": [],
   "source": []
  }
 ],
 "metadata": {
  "kernelspec": {
   "display_name": "Python 3 (ipykernel)",
   "language": "python",
   "name": "python3"
  },
  "language_info": {
   "codemirror_mode": {
    "name": "ipython",
    "version": 3
   },
   "file_extension": ".py",
   "mimetype": "text/x-python",
   "name": "python",
   "nbconvert_exporter": "python",
   "pygments_lexer": "ipython3",
   "version": "3.10.9"
  }
 },
 "nbformat": 4,
 "nbformat_minor": 5
}
