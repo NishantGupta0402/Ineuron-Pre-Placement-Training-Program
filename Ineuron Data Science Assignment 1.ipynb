{
 "cells": [
  {
   "cell_type": "markdown",
   "id": "f87f688d",
   "metadata": {},
   "source": [
    "### Q1 Write a Python program to reverse a string without using any built-in string reversal functions"
   ]
  },
  {
   "cell_type": "code",
   "execution_count": 18,
   "id": "b923cd6e",
   "metadata": {},
   "outputs": [
    {
     "name": "stdout",
     "output_type": "stream",
     "text": [
      "tnahsiN\n"
     ]
    }
   ],
   "source": [
    "x='Nishant'\n",
    "l=''\n",
    "for i in range(len(x)-1,-1,-1):\n",
    "    l+=x[i]\n",
    "print(l)"
   ]
  },
  {
   "cell_type": "markdown",
   "id": "2092e83b",
   "metadata": {},
   "source": [
    "### Q2 Implement a function to check if a given string is a palindrome."
   ]
  },
  {
   "cell_type": "code",
   "execution_count": 2,
   "id": "01304fa9",
   "metadata": {},
   "outputs": [
    {
     "name": "stdout",
     "output_type": "stream",
     "text": [
      "It is Palindrome\n"
     ]
    }
   ],
   "source": [
    "x = \"panap\"\n",
    "\n",
    "def CheckPalindrome(x):\n",
    "    if x==x[::-1]:\n",
    "        print('It is Palindrome')\n",
    "    else:\n",
    "        print('It is not Palindrome')\n",
    "\n",
    "CheckPalindrome(x)"
   ]
  },
  {
   "cell_type": "markdown",
   "id": "8257fe72",
   "metadata": {},
   "source": [
    "### Q3  Write a program to find the largest element in a given list"
   ]
  },
  {
   "cell_type": "code",
   "execution_count": 3,
   "id": "1152bf6a",
   "metadata": {},
   "outputs": [
    {
     "data": {
      "text/plain": [
       "25"
      ]
     },
     "execution_count": 3,
     "metadata": {},
     "output_type": "execute_result"
    }
   ],
   "source": [
    "def findlargeelementinthelist(a):\n",
    "    a.sort(reverse=True)\n",
    "    return a[0]\n",
    "\n",
    "findlargeelementinthelist([6,8,12,15,25])"
   ]
  },
  {
   "cell_type": "markdown",
   "id": "160abc0d",
   "metadata": {},
   "source": [
    "### Q4 Implement a function to count the occurrence of each element in a list."
   ]
  },
  {
   "cell_type": "code",
   "execution_count": 6,
   "id": "8d483e77",
   "metadata": {},
   "outputs": [
    {
     "name": "stdout",
     "output_type": "stream",
     "text": [
      "Enter the elements of the list: 2,6,81,8,10,2\n",
      "Enter the element to find: 2\n",
      "There are 2 occurences of 2 in (2, 6, 81, 8, 10, 2)\n"
     ]
    }
   ],
   "source": [
    "def checkOccurence():\n",
    "    in_list = eval(input('Enter the elements of the list: '))\n",
    "    in_num = eval(input('Enter the element to find: '))\n",
    "    count = 0\n",
    "    if in_num in in_list:\n",
    "        for ele in in_list:\n",
    "            if ele == in_num:\n",
    "                count = count+1\n",
    "    print(f'There are {count} occurences of {in_num} in {in_list}')\n",
    "    \n",
    "checkOccurence()"
   ]
  },
  {
   "cell_type": "markdown",
   "id": "1fbe3cf3",
   "metadata": {},
   "source": [
    "### Q5  Write a Python program to find the second largest number in a list"
   ]
  },
  {
   "cell_type": "code",
   "execution_count": 5,
   "id": "5fa20f64",
   "metadata": {},
   "outputs": [
    {
     "data": {
      "text/plain": [
       "65"
      ]
     },
     "execution_count": 5,
     "metadata": {},
     "output_type": "execute_result"
    }
   ],
   "source": [
    "def findsecondlargestelement(l):\n",
    "    l.sort(reverse=True)\n",
    "    return l[1]\n",
    "\n",
    "findsecondlargestelement([11,25,58,65,72])"
   ]
  },
  {
   "cell_type": "markdown",
   "id": "e9a5819f",
   "metadata": {},
   "source": [
    "### Q6 Implement a function to remove duplicate elements from a list"
   ]
  },
  {
   "cell_type": "code",
   "execution_count": 9,
   "id": "8a634f47",
   "metadata": {},
   "outputs": [
    {
     "data": {
      "text/plain": [
       "[2, 4, 5, 6]"
      ]
     },
     "execution_count": 9,
     "metadata": {},
     "output_type": "execute_result"
    }
   ],
   "source": [
    "def removeduplicatelement(l):\n",
    "    b=set(l)\n",
    "    c=list(b)\n",
    "    return c\n",
    "\n",
    "l=[2,2,5,6,4,2]\n",
    "removeduplicatelement(l)"
   ]
  },
  {
   "cell_type": "markdown",
   "id": "f9b5f917",
   "metadata": {},
   "source": [
    "### Q7 Write a program to calculate the factorial of a given number."
   ]
  },
  {
   "cell_type": "code",
   "execution_count": 10,
   "id": "5beacd0a",
   "metadata": {},
   "outputs": [
    {
     "name": "stdout",
     "output_type": "stream",
     "text": [
      "Enter a number: 5\n",
      "The Factorial of 5 is 120\n"
     ]
    },
    {
     "data": {
      "text/plain": [
       "120"
      ]
     },
     "execution_count": 10,
     "metadata": {},
     "output_type": "execute_result"
    }
   ],
   "source": [
    "def factorial(num):\n",
    "    if (num < 1):\n",
    "        return 1\n",
    "    else:\n",
    "        return num*factorial(num-1)\n",
    "num = int(input('Enter a number: '))\n",
    "value = factorial(num)\n",
    "print(f'The Factorial of {num} is {value}')\n",
    "\n",
    "factorial(5)"
   ]
  },
  {
   "cell_type": "markdown",
   "id": "5f21a87a",
   "metadata": {},
   "source": [
    "### Q8 Implement a function to check if a given number is prime."
   ]
  },
  {
   "cell_type": "code",
   "execution_count": 11,
   "id": "f198f467",
   "metadata": {},
   "outputs": [
    {
     "name": "stdout",
     "output_type": "stream",
     "text": [
      "Enter a number: 5\n",
      "5 is a prime number\n"
     ]
    }
   ],
   "source": [
    "def isPrime(num):\n",
    "    flag = False\n",
    "    for i in range(2,num):\n",
    "        if num%i ==0:\n",
    "            flag= True\n",
    "            break\n",
    "    if(not flag):\n",
    "        print(f'{num} is a prime number')\n",
    "    else:\n",
    "        print(f'{num} is not a prime number')\n",
    "        \n",
    "number = int(input(\"Enter a number: \"))\n",
    "isPrime(number)"
   ]
  },
  {
   "cell_type": "markdown",
   "id": "9decdda3",
   "metadata": {},
   "source": [
    "### Q9 Write a Python program to sort a list of integers in ascending order.\n"
   ]
  },
  {
   "cell_type": "code",
   "execution_count": 12,
   "id": "1fd634f1",
   "metadata": {},
   "outputs": [
    {
     "data": {
      "text/plain": [
       "[2, 2, 2, 4, 5, 6]"
      ]
     },
     "execution_count": 12,
     "metadata": {},
     "output_type": "execute_result"
    }
   ],
   "source": [
    "def asclist(l):\n",
    "    l.sort()\n",
    "    return l\n",
    "\n",
    "l=[2,2,5,6,4,2]\n",
    "\n",
    "asclist(l)\n"
   ]
  },
  {
   "cell_type": "markdown",
   "id": "fef05eae",
   "metadata": {},
   "source": [
    "### Q10 Implement a function to find the sum of all numbers in a list."
   ]
  },
  {
   "cell_type": "code",
   "execution_count": 14,
   "id": "108dd9b8",
   "metadata": {},
   "outputs": [
    {
     "name": "stdout",
     "output_type": "stream",
     "text": [
      "Enter the No of Entries in a List: 5\n",
      "Enter a element: 5\n",
      "Enter a element: 6\n",
      "Enter a element: 7\n",
      "Enter a element: 8\n",
      "Enter a element: 10\n",
      "Sum of Elements: 36\n"
     ]
    }
   ],
   "source": [
    "def sumofList():\n",
    "    in_ele = int(input('Enter the No of Entries in a List: '))\n",
    "    in_list = []\n",
    "    for itr in range(in_ele):\n",
    "        in_list.append(int(input('Enter a element: ')))\n",
    "    print(f'Sum of Elements: {sum(in_list)}')\n",
    "    \n",
    "sumofList()"
   ]
  },
  {
   "cell_type": "markdown",
   "id": "7a3dc9c7",
   "metadata": {},
   "source": [
    "### Q11 Write a program to find the common elements between two lists."
   ]
  },
  {
   "cell_type": "code",
   "execution_count": 15,
   "id": "f0a65a8f",
   "metadata": {},
   "outputs": [
    {
     "name": "stdout",
     "output_type": "stream",
     "text": [
      "{5}\n",
      "No common elements\n"
     ]
    }
   ],
   "source": [
    "def common_member(a, b):\n",
    "    a_set = set(a)\n",
    "    b_set = set(b)\n",
    " \n",
    "    if (a_set & b_set):\n",
    "        print(a_set & b_set)\n",
    "    else:\n",
    "        print(\"No common elements\")\n",
    "          \n",
    "a = [1, 2, 3, 4, 5]\n",
    "b = [5, 6, 7, 8, 9]\n",
    "common_member(a, b)\n",
    "  \n",
    "a = [1, 2, 3, 4, 5]\n",
    "b = [6, 7, 8, 9]\n",
    "common_member(a, b)"
   ]
  },
  {
   "cell_type": "markdown",
   "id": "2833ee71",
   "metadata": {},
   "source": [
    "### Q12 Implement a function to check if a given string is an anagram of another string."
   ]
  },
  {
   "cell_type": "code",
   "execution_count": 2,
   "id": "37b80c74",
   "metadata": {},
   "outputs": [
    {
     "name": "stdout",
     "output_type": "stream",
     "text": [
      "The strings are anagrams.\n",
      "The strings aren't anagrams.\n"
     ]
    }
   ],
   "source": [
    "##Sol 21\n",
    "def checkanagram(s1, s2):\n",
    "     \n",
    "    # the sorted strings are checked\n",
    "    if(sorted(s1)== sorted(s2)):\n",
    "        print(\"The strings are anagrams.\")\n",
    "    else:\n",
    "        print(\"The strings aren't anagrams.\")        \n",
    "         \n",
    "# driver code \n",
    "s1 =\"listen\"\n",
    "s2 =\"silent\"\n",
    "checkanagram(s1, s2)\n",
    "checkanagram('his','her')"
   ]
  },
  {
   "cell_type": "markdown",
   "id": "aa9adc86",
   "metadata": {},
   "source": [
    "### Q14 Implement a function to calculate the Fibonacci sequence up to a given number of terms."
   ]
  },
  {
   "cell_type": "code",
   "execution_count": 6,
   "id": "8893750a",
   "metadata": {},
   "outputs": [
    {
     "name": "stdout",
     "output_type": "stream",
     "text": [
      "Enter the no of fibonacci sequences you want? 5\n",
      "The First 5 fibonacci series are:  [0, 1, 1, 2, 3]\n"
     ]
    }
   ],
   "source": [
    "s_count = int(input('Enter the no of fibonacci sequences you want? '))\n",
    "initial_list = [0,1]\n",
    "if s_count < 0:\n",
    "    print('Fibonacci Numbers are not available for Negative Numbers')\n",
    "elif s_count <= 2 and s_count >= 0:\n",
    "    print(initial_list)\n",
    "else:\n",
    "    for ins in range(s_count):\n",
    "        if ins >= 2:\n",
    "            initial_list.append(initial_list[ins-1]+initial_list[ins-2])\n",
    "    print(f'The First {s_count} fibonacci series are: ',initial_list)"
   ]
  },
  {
   "cell_type": "markdown",
   "id": "9860ef48",
   "metadata": {},
   "source": [
    "### Q15 Write a program to find the median of a list of numbers."
   ]
  },
  {
   "cell_type": "code",
   "execution_count": 7,
   "id": "641cbf0b",
   "metadata": {},
   "outputs": [
    {
     "name": "stdout",
     "output_type": "stream",
     "text": [
      "3\n",
      "3.5\n"
     ]
    }
   ],
   "source": [
    "def cal_median(nums):\n",
    "    nums.sort()\n",
    "    n = len(nums)\n",
    "    m = n // 2\n",
    "    if n % 2 == 0:\n",
    "        return (nums[m - 1] + nums[m]) / 2\n",
    "    else:\n",
    "        return nums[m]\n",
    "print(cal_median([1,2,3,4,5]))\n",
    "print(cal_median([1,2,3,4,5,6]))\n",
    "\n"
   ]
  },
  {
   "cell_type": "markdown",
   "id": "a81b9da9",
   "metadata": {},
   "source": [
    "### Q17  Write a Python program to find the intersection of two lists."
   ]
  },
  {
   "cell_type": "code",
   "execution_count": 8,
   "id": "c94df4ae",
   "metadata": {},
   "outputs": [
    {
     "name": "stdout",
     "output_type": "stream",
     "text": [
      "[9, 11, 26, 28]\n"
     ]
    }
   ],
   "source": [
    "def intersection(lst1, lst2):\n",
    "    lst3 = [value for value in lst1 if value in lst2]\n",
    "    return lst3\n",
    " \n",
    "# Driver Code\n",
    "lst1 = [4, 9, 1, 17, 11, 26, 28, 54, 69]\n",
    "lst2 = [9, 9, 74, 21, 45, 11, 63, 28, 26]\n",
    "print(intersection(lst1, lst2))"
   ]
  },
  {
   "cell_type": "markdown",
   "id": "2aa292bc",
   "metadata": {},
   "source": [
    "### Q18 def intersection(lst1, lst2):\n",
    "    lst3 = [value for value in lst1 if value in lst2]\n",
    "    return lst3\n",
    " \n",
    "# Driver Code\n",
    "lst1 = [4, 9, 1, 17, 11, 26, 28, 54, 69]\n",
    "lst2 = [9, 9, 74, 21, 45, 11, 63, 28, 26]\n",
    "print(intersection(lst1, lst2))"
   ]
  },
  {
   "cell_type": "code",
   "execution_count": null,
   "id": "9b323390",
   "metadata": {},
   "outputs": [],
   "source": [
    "##Sol 18\n",
    "from sys import maxint\n",
    "\n",
    "def maxSubArraySum(a, size):\n",
    " \n",
    "    max_so_far = -maxint - 1\n",
    "    max_ending_here = 0\n",
    " \n",
    "    for i in range(0, size):\n",
    "        max_ending_here = max_ending_here + a[i]\n",
    "        if (max_so_far < max_ending_here):\n",
    "            max_so_far = max_ending_here\n",
    " \n",
    "        if max_ending_here < 0:\n",
    "            max_ending_here = 0\n",
    "    return max_so_far\n",
    " \n",
    "# Driver function to check the above function\n",
    " \n",
    "a = [-2, -3, 4, -1, -2, 1, 5, -3]\n",
    "maxSubArraySum(a,len(a))"
   ]
  },
  {
   "cell_type": "markdown",
   "id": "6f083064",
   "metadata": {},
   "source": [
    "### Q19 Write a program to remove all vowels from a given string."
   ]
  },
  {
   "cell_type": "code",
   "execution_count": 14,
   "id": "c5362e78",
   "metadata": {},
   "outputs": [],
   "source": [
    "def withoutvowel(x):\n",
    "    vowel=['a','e','i','o','u']\n",
    "    result=[i for i in x if i.lower() not in vowel]\n",
    "    result=''.join(result)\n",
    "    print(result)"
   ]
  },
  {
   "cell_type": "markdown",
   "id": "5cc8e5c2",
   "metadata": {},
   "source": [
    "### Q20  Implement a function to reverse the order of words in a given sentence."
   ]
  },
  {
   "cell_type": "code",
   "execution_count": 16,
   "id": "6b9a1514",
   "metadata": {},
   "outputs": [
    {
     "name": "stdout",
     "output_type": "stream",
     "text": [
      "I ma deticxe rof boJ riaF\n"
     ]
    }
   ],
   "source": [
    "\n",
    "# Function to Reverse words\n",
    "def reverseWordSentence(Sentence):\n",
    " \n",
    "    words = Sentence.split(\" \")\n",
    "     \n",
    "    # Reversing each word and creating\n",
    "    # a new list of words\n",
    "    # List Comprehension Technique\n",
    "    newWords = [word[::-1] for word in words]\n",
    "\n",
    "    newSentence = \" \".join(newWords)\n",
    " \n",
    "    return newSentence\n",
    " \n",
    "# Driver's Code\n",
    "Sentence = \"I am excited for Job Fair\"\n",
    "# Calling the reverseWordSentence\n",
    "# Function to get the newSentence\n",
    "print(reverseWordSentence(Sentence))"
   ]
  },
  {
   "cell_type": "markdown",
   "id": "1ecc7e68",
   "metadata": {},
   "source": [
    "### Q21 Write a Python program to check if two strings are anagrams of each other."
   ]
  },
  {
   "cell_type": "code",
   "execution_count": 5,
   "id": "8375fac3",
   "metadata": {},
   "outputs": [
    {
     "name": "stdout",
     "output_type": "stream",
     "text": [
      "The strings are anagrams.\n",
      "The strings aren't anagrams.\n"
     ]
    }
   ],
   "source": [
    "##Sol 21\n",
    "def checkanagram(s1, s2):\n",
    "     \n",
    "    # the sorted strings are checked\n",
    "    if(sorted(s1)== sorted(s2)):\n",
    "        print(\"The strings are anagrams.\")\n",
    "    else:\n",
    "        print(\"The strings aren't anagrams.\")        \n",
    "         \n",
    "# driver code \n",
    "s1 =\"listen\"\n",
    "s2 =\"silent\"\n",
    "checkanagram(s1, s2)\n",
    "checkanagram('his','her')"
   ]
  },
  {
   "cell_type": "markdown",
   "id": "8f0b7b9e",
   "metadata": {},
   "source": [
    "### Q22 Implement a function to find the first non-repeating character in a string."
   ]
  },
  {
   "cell_type": "code",
   "execution_count": 12,
   "id": "b5f1bd61",
   "metadata": {},
   "outputs": [
    {
     "name": "stdout",
     "output_type": "stream",
     "text": [
      "h\n",
      "m\n"
     ]
    }
   ],
   "source": [
    "from collections import Counter\n",
    "\n",
    "def repeatFunc(myStr):\n",
    "\n",
    "    freq = Counter(myStr)\n",
    "\n",
    "   # Traverse the string\n",
    "    for i in myStr:\n",
    "        if(freq[i] == 1):\n",
    "            print(i)\n",
    "            break\n",
    "\n",
    "# Driver code\n",
    "myStr = \"thisisit\"\n",
    "myStr1=\"naman\"\n",
    "repeatFunc(myStr)\n",
    "repeatFunc(myStr1)\n"
   ]
  },
  {
   "cell_type": "markdown",
   "id": "0bac8b19",
   "metadata": {},
   "source": [
    "### Q23 Write a program to find the prime factors of a given number"
   ]
  },
  {
   "cell_type": "code",
   "execution_count": 15,
   "id": "342f7b2b",
   "metadata": {},
   "outputs": [
    {
     "name": "stdout",
     "output_type": "stream",
     "text": [
      "3\n",
      "3\n",
      "5\n",
      "7\n"
     ]
    }
   ],
   "source": [
    "# Sol 23\n",
    "import math\n",
    " \n",
    "# A function to print all prime factors of\n",
    "# a given number n\n",
    "def primeFactors(n):\n",
    "     \n",
    "    # Print the number of two's that divide n\n",
    "    while n % 2 == 0:\n",
    "        print(2),\n",
    "        n = n / 2\n",
    "         \n",
    "    # n must be odd at this point\n",
    "    # so a skip of 2 ( i = i + 2) can be used\n",
    "    for i in range(3,int(math.sqrt(n))+1,2):\n",
    "         \n",
    "        # while i divides n , print i and divide n\n",
    "        while n % i== 0:\n",
    "            print(i),\n",
    "            n = n / i\n",
    "             \n",
    "    # Condition if n is a prime\n",
    "    # number greater than 2\n",
    "    if n > 2:\n",
    "        print(n)\n",
    "         \n",
    "# Driver Program to test above function\n",
    " \n",
    "n = 315\n",
    "primeFactors(n)"
   ]
  },
  {
   "cell_type": "markdown",
   "id": "c59c4a61",
   "metadata": {},
   "source": [
    "### Q24 Implement a function to check if a given number is a power of two"
   ]
  },
  {
   "cell_type": "code",
   "execution_count": 16,
   "id": "106951ee",
   "metadata": {},
   "outputs": [
    {
     "name": "stdout",
     "output_type": "stream",
     "text": [
      "No\n",
      "Yes\n"
     ]
    }
   ],
   "source": [
    "#Sol 24\n",
    "import math\n",
    " \n",
    "# Function to check\n",
    "# Log base 2\n",
    "def Log2(x):\n",
    "    return (math.log10(x) /\n",
    "            math.log10(2));\n",
    " \n",
    "# Function to check\n",
    "# if x is power of 2\n",
    "def isPowerOfTwo(n):\n",
    "    return (math.ceil(Log2(n)) == math.floor(Log2(n)));\n",
    " \n",
    "# Driver Code\n",
    "if(isPowerOfTwo(67)):\n",
    "    print(\"Yes\");\n",
    "else:\n",
    "    print(\"No\");\n",
    "\n",
    "if(isPowerOfTwo(128)):\n",
    "    print(\"Yes\");\n",
    "else:\n",
    "    print(\"No\");"
   ]
  },
  {
   "cell_type": "markdown",
   "id": "aff3dc47",
   "metadata": {},
   "source": [
    "### Q25 Write a Python program to merge two sorted lists into a single sorted list"
   ]
  },
  {
   "cell_type": "code",
   "execution_count": 17,
   "id": "817f0077",
   "metadata": {},
   "outputs": [
    {
     "name": "stdout",
     "output_type": "stream",
     "text": [
      "The combined sorted list is : [1, 3, 4, 5, 6, 7, 8, 9, 10, 11]\n"
     ]
    }
   ],
   "source": [
    "## Sol 25\n",
    "# initializing lists\n",
    "test_list1 = [1, 5, 6, 9, 11]\n",
    "test_list2 = [3, 4, 7, 8, 10]\n",
    "\n",
    "\n",
    " \n",
    "# to combine two sorted lists\n",
    "res = sorted(test_list1 + test_list2)\n",
    " \n",
    "# printing result\n",
    "print (\"The combined sorted list is : \" + str(res))"
   ]
  },
  {
   "cell_type": "markdown",
   "id": "f588e13a",
   "metadata": {},
   "source": [
    "### Q26 Implement a function to find the mode of a list of numbers."
   ]
  },
  {
   "cell_type": "code",
   "execution_count": 19,
   "id": "163a1cd8",
   "metadata": {},
   "outputs": [
    {
     "data": {
      "text/plain": [
       "[7]"
      ]
     },
     "execution_count": 19,
     "metadata": {},
     "output_type": "execute_result"
    }
   ],
   "source": [
    "def mode(ls):\n",
    "    # dictionary to keep count of each value\n",
    "    counts = {}\n",
    "    # iterate through the list\n",
    "    for item in ls:\n",
    "        if item in counts:\n",
    "            counts[item] += 1\n",
    "        else:\n",
    "            counts[item] = 1\n",
    "    # get the keys with the max counts\n",
    "    return [key for key in counts.keys() if counts[key] == max(counts.values())]\n",
    "# use the function on a list of values\n",
    "mode([2,2,4,5,6,2,3,5,7,8,7,8,9,7,7])"
   ]
  },
  {
   "cell_type": "markdown",
   "id": "034c4ccd",
   "metadata": {},
   "source": [
    "### Q27 Write a program to find the greatest common divisor (GCD) of two numbers."
   ]
  },
  {
   "cell_type": "code",
   "execution_count": 20,
   "id": "801398a4",
   "metadata": {},
   "outputs": [
    {
     "name": "stdout",
     "output_type": "stream",
     "text": [
      "The GCD of 6,12 is 6\n",
      "The GCD of 2,3 is 1\n",
      "The GCD of 10,23 is 1\n"
     ]
    }
   ],
   "source": [
    "## Sol 27\n",
    "def findTheGCD(x_term,y_term):\n",
    "    if x_term>y_term:\n",
    "        smaller = y_term\n",
    "    else:\n",
    "        smaller = x_term\n",
    "    for ele in range(1,smaller+1):\n",
    "        if((x_term%ele == 0) and (y_term%ele == 0)):\n",
    "            gcd = ele\n",
    "    print(f'The GCD of {x_term},{y_term} is {gcd}')\n",
    "\n",
    "findTheGCD(6,12)\n",
    "findTheGCD(2,3)\n",
    "findTheGCD(10,23)"
   ]
  },
  {
   "cell_type": "markdown",
   "id": "9b39d153",
   "metadata": {},
   "source": [
    "### Q28 Implement a function to calculate the square root of a given number."
   ]
  },
  {
   "cell_type": "code",
   "execution_count": 23,
   "id": "41c9ea4d",
   "metadata": {},
   "outputs": [
    {
     "name": "stdout",
     "output_type": "stream",
     "text": [
      "5.0\n"
     ]
    },
    {
     "data": {
      "text/plain": [
       "5.916079783099616"
      ]
     },
     "execution_count": 23,
     "metadata": {},
     "output_type": "execute_result"
    }
   ],
   "source": [
    "##Sol 28\n",
    "import math \n",
    "def sqrt(x):\n",
    "    return math.sqrt(x)\n",
    "\n",
    "print(sqrt(25))\n",
    "sqrt(35)\n"
   ]
  },
  {
   "cell_type": "markdown",
   "id": "1b655441",
   "metadata": {},
   "source": [
    " ### Q29 Write a Python program to check if a given string is a valid palindrome ignoring non-alphanumeric characters."
   ]
  },
  {
   "cell_type": "code",
   "execution_count": 33,
   "id": "46f41d78",
   "metadata": {},
   "outputs": [
    {
     "name": "stdout",
     "output_type": "stream",
     "text": [
      "It is Palindrome\n"
     ]
    }
   ],
   "source": [
    "##Sol 29\n",
    "x = \"na_m%$#an\"\n",
    "\n",
    "def Checkpalindrome(x):\n",
    "    y = ''.join(ch for ch in x if ch.isalnum())\n",
    "    if y==y[::-1]:\n",
    "        print('It is Palindrome')\n",
    "    else:\n",
    "        print('It is not Palindrome')\n",
    "\n",
    "Checkpalindrome(x)\n",
    "        "
   ]
  },
  {
   "cell_type": "markdown",
   "id": "ff1b9c6e",
   "metadata": {},
   "source": [
    "### Q30 . Implement a function to find the minimum element in a rotated sorted list."
   ]
  },
  {
   "cell_type": "code",
   "execution_count": 38,
   "id": "2ff73318",
   "metadata": {},
   "outputs": [
    {
     "data": {
      "text/plain": [
       "1"
      ]
     },
     "execution_count": 38,
     "metadata": {},
     "output_type": "execute_result"
    }
   ],
   "source": [
    "## Sol 30\n",
    "def minRotatedArray(X,n):\n",
    "    l=0\n",
    "    r=n-1\n",
    "    while l<r:\n",
    "        if X[l]<X[r]:\n",
    "            return X[l]\n",
    "        mid = l+(r-l)//2\n",
    "        if X[mid]>X[r]:\n",
    "            l=mid+1\n",
    "        else:\n",
    "            r=mid\n",
    "    return X[l]\n",
    "\n",
    "X=[1,2,3,4,8,11]\n",
    "n=1\n",
    "\n",
    "minRotatedArray(X,n)"
   ]
  },
  {
   "cell_type": "markdown",
   "id": "de336cc7",
   "metadata": {},
   "source": [
    "### Q31 Write a program to find the sum of all even numbers in a list."
   ]
  },
  {
   "cell_type": "code",
   "execution_count": 39,
   "id": "8599d6a9",
   "metadata": {},
   "outputs": [
    {
     "data": {
      "text/plain": [
       "190"
      ]
     },
     "execution_count": 39,
     "metadata": {},
     "output_type": "execute_result"
    }
   ],
   "source": [
    "###Sol 31\n",
    "\n",
    "l=[1,56,78,77,23,56]\n",
    "\n",
    "x=[i for i in l if i%2==0]\n",
    "\n",
    "sum(x)"
   ]
  },
  {
   "cell_type": "markdown",
   "id": "5691c2a9",
   "metadata": {},
   "source": [
    "### Q32 Implement a function to calculate the power of a number using recursion"
   ]
  },
  {
   "cell_type": "code",
   "execution_count": 42,
   "id": "9541daea",
   "metadata": {},
   "outputs": [
    {
     "data": {
      "text/plain": [
       "25"
      ]
     },
     "execution_count": 42,
     "metadata": {},
     "output_type": "execute_result"
    }
   ],
   "source": [
    "## Sol 33\n",
    "def power(N, P):\n",
    " \n",
    "    # If power is 0 then return 1\n",
    "    # if condition is true\n",
    "    # only then it will enter it,\n",
    "    # otherwise not\n",
    "    if P == 0:\n",
    "        return 1\n",
    " \n",
    "    # Recurrence relation\n",
    "    return (N*power(N, P-1))\n",
    " \n",
    " \n",
    "N=5\n",
    "P=2\n",
    " \n",
    "power(N, P)"
   ]
  },
  {
   "cell_type": "markdown",
   "id": "e341fb35",
   "metadata": {},
   "source": [
    "### Q33 Write a Python program to remove duplicates from a list while preserving the order"
   ]
  },
  {
   "cell_type": "code",
   "execution_count": 44,
   "id": "2fc0b345",
   "metadata": {},
   "outputs": [
    {
     "data": {
      "text/plain": [
       "[2, 3, 57, 11, 56, 89, 90]"
      ]
     },
     "execution_count": 44,
     "metadata": {},
     "output_type": "execute_result"
    }
   ],
   "source": [
    "##Sol 33\n",
    "\n",
    "seq=[2,3,57,11,2,11,56,89,90,90]\n",
    "\n",
    "\n",
    "\n",
    "def f7(seq):\n",
    "    seen = set()\n",
    "    seen_add = seen.add\n",
    "    return [x for x in seq if not (x in seen or seen_add(x))]\n",
    "\n",
    "f7(seq)"
   ]
  },
  {
   "cell_type": "markdown",
   "id": "ae5bcfe1",
   "metadata": {},
   "source": [
    "### Q34 Implement a function to find the longest common prefix among a list of strings "
   ]
  },
  {
   "cell_type": "code",
   "execution_count": 46,
   "id": "a147997a",
   "metadata": {},
   "outputs": [
    {
     "data": {
      "text/plain": [
       "'shre'"
      ]
     },
     "execution_count": 46,
     "metadata": {},
     "output_type": "execute_result"
    }
   ],
   "source": [
    "##Sol 34\n",
    "\n",
    "a=[\"shreegyan\",\"shreyas\",\"shreya\"]\n",
    "def longestCommonPrefix( a):\n",
    "     \n",
    "    size = len(a)\n",
    " \n",
    "    # if size is 0, return empty string\n",
    "    if (size == 0):\n",
    "        return \"\"\n",
    " \n",
    "    if (size == 1):\n",
    "        return a[0]\n",
    " \n",
    "    # sort the array of strings\n",
    "    a.sort()\n",
    "     \n",
    "    # find the minimum length from\n",
    "    # first and last string\n",
    "    end = min(len(a[0]), len(a[size - 1]))\n",
    " \n",
    "    # find the common prefix between\n",
    "    # the first and last string\n",
    "    i = 0\n",
    "    while (i < end and\n",
    "           a[0][i] == a[size - 1][i]):\n",
    "        i += 1\n",
    " \n",
    "    pre = a[0][0: i]\n",
    "    return pre\n",
    "\n",
    "longestCommonPrefix( a)"
   ]
  },
  {
   "cell_type": "markdown",
   "id": "b34a80a0",
   "metadata": {},
   "source": [
    "### Q35 Write a program to check if a given number is a perfect square."
   ]
  },
  {
   "cell_type": "code",
   "execution_count": 50,
   "id": "4d5dfe53",
   "metadata": {},
   "outputs": [
    {
     "data": {
      "text/plain": [
       "False"
      ]
     },
     "execution_count": 50,
     "metadata": {},
     "output_type": "execute_result"
    }
   ],
   "source": [
    "x=49\n",
    "y=57\n",
    "\n",
    "import math\n",
    "\n",
    "def isPerfectSquare(n):\n",
    "    # start with the odd number 1\n",
    "    odd = 1\n",
    " \n",
    "\n",
    "    while n > 0:\n",
    "        n = n - odd        # subtract the next odd number from `n`\n",
    "        odd = odd + 2      # take next odd number for the next iteration\n",
    " \n",
    "    # only a perfect square will reach a value of 0\n",
    "    return n == 0\n",
    "\n",
    "\n",
    "isPerfectSquare(56)"
   ]
  },
  {
   "cell_type": "markdown",
   "id": "ecdf4839",
   "metadata": {},
   "source": [
    "### Q36 Implement a function to calculate the product of all elements in a list"
   ]
  },
  {
   "cell_type": "code",
   "execution_count": 53,
   "id": "518eb352",
   "metadata": {},
   "outputs": [
    {
     "data": {
      "text/plain": [
       "80640"
      ]
     },
     "execution_count": 53,
     "metadata": {},
     "output_type": "execute_result"
    }
   ],
   "source": [
    "l1=[1,4,5,7,8,9,8]\n",
    "\n",
    "def listproduct(l):\n",
    "    prod=1\n",
    "    n=len(l)\n",
    "    \n",
    "    for i in range(0,n):\n",
    "        prod=prod*l[i]\n",
    "        \n",
    "    return prod\n",
    "\n",
    "\n",
    "listproduct(l1)"
   ]
  },
  {
   "cell_type": "markdown",
   "id": "370a3b5a",
   "metadata": {},
   "source": [
    "### Q37 Write a Python program to reverse the order of words in a sentence while preserving the word order"
   ]
  },
  {
   "cell_type": "code",
   "execution_count": 55,
   "id": "6585f48d",
   "metadata": {},
   "outputs": [
    {
     "data": {
      "text/plain": [
       "'uhsnahduS riS si taerG rotneM'"
      ]
     },
     "execution_count": 55,
     "metadata": {},
     "output_type": "execute_result"
    }
   ],
   "source": [
    "### Sol 37\n",
    "def reverseWordSentence(Sentence):\n",
    " \n",
    "    \n",
    "    return ' '.join(word[::-1] for word in Sentence.split(\" \"))\n",
    " \n",
    "# Driver's Code\n",
    "Sentence = \"Sudhanshu Sir is Great Mentor\"\n",
    "\n",
    "reverseWordSentence(Sentence)\n"
   ]
  },
  {
   "cell_type": "markdown",
   "id": "8e61143a",
   "metadata": {},
   "source": [
    "### Q38 Implement a function to find the missing number in a given list of consecutive numbers."
   ]
  },
  {
   "cell_type": "code",
   "execution_count": 57,
   "id": "6e885dad",
   "metadata": {},
   "outputs": [
    {
     "name": "stdout",
     "output_type": "stream",
     "text": [
      "2\n"
     ]
    }
   ],
   "source": [
    "##Q38 \n",
    "\n",
    "def findMissing(arr, n):\n",
    " \n",
    "    l, h = 0, n - 1\n",
    "    mid = 0\n",
    " \n",
    "    while (h > l):\n",
    " \n",
    "        mid = l + (h - l) // 2\n",
    " \n",
    "        # Check if middle element is consistent\n",
    "        if (arr[mid] - mid == arr[0]):\n",
    " \n",
    "            # No inconsistency till middle elements\n",
    "            # When missing element is just after\n",
    "            # the middle element\n",
    "            if (arr[mid + 1] - arr[mid] > 1):\n",
    "                return arr[mid] + 1\n",
    "            else:\n",
    " \n",
    "                # Move right\n",
    "                l = mid + 1\n",
    "             \n",
    "        else:\n",
    " \n",
    "            # Inconsistency found\n",
    "            # When missing element is just before\n",
    "            # the middle element\n",
    "            if (arr[mid] - arr[mid - 1] > 1):\n",
    "                return arr[mid] - 1\n",
    "            else:\n",
    " \n",
    "                # Move left\n",
    "                h = mid - 1\n",
    "             \n",
    "    # No missing element found\n",
    "    return -1\n",
    " \n",
    "# Driver code\n",
    "arr = [1,3,4,5,6 ]\n",
    "n = len(arr)\n",
    "\n",
    "\n",
    " \n",
    "print(findMissing(arr, n))"
   ]
  },
  {
   "cell_type": "markdown",
   "id": "07083e2a",
   "metadata": {},
   "source": [
    "### Q39 Write a program to find the sum of digits of a given number"
   ]
  },
  {
   "cell_type": "code",
   "execution_count": 58,
   "id": "d92853c6",
   "metadata": {},
   "outputs": [
    {
     "data": {
      "text/plain": [
       "19"
      ]
     },
     "execution_count": 58,
     "metadata": {},
     "output_type": "execute_result"
    }
   ],
   "source": [
    "### Sol 39\n",
    "\n",
    "def SUM(n):\n",
    "    x = 0\n",
    "    for digit in str(n): \n",
    "      x += int(digit)      \n",
    "    return x\n",
    "\n",
    "SUM(478)\n",
    "    "
   ]
  },
  {
   "cell_type": "markdown",
   "id": "6913b013",
   "metadata": {},
   "source": [
    "### Q40 Implement a function to check if a given string is a valid palindrome considering case sensitivity"
   ]
  },
  {
   "cell_type": "code",
   "execution_count": 59,
   "id": "94a6ff23",
   "metadata": {},
   "outputs": [
    {
     "name": "stdout",
     "output_type": "stream",
     "text": [
      "Not Palindrome\n",
      "Palindrome\n"
     ]
    }
   ],
   "source": [
    "### Sol 40 \n",
    "\n",
    "def CheckPalindrome(string):\n",
    "    x=string.lower()\n",
    "    \n",
    "    if x==x[::-1]:\n",
    "        print('Palindrome')\n",
    "    \n",
    "    else:\n",
    "        print('Not Palindrome')\n",
    "        \n",
    "        \n",
    "CheckPalindrome('NIshanT')\n",
    "CheckPalindrome('NAMan')"
   ]
  },
  {
   "cell_type": "markdown",
   "id": "53e1ec1d",
   "metadata": {},
   "source": [
    "### Q41 Write a Python program to find the smallest missing positive integer in a list"
   ]
  },
  {
   "cell_type": "code",
   "execution_count": 60,
   "id": "c05d8bad",
   "metadata": {},
   "outputs": [
    {
     "name": "stdout",
     "output_type": "stream",
     "text": [
      "1\n"
     ]
    }
   ],
   "source": [
    "from functools import cmp_to_key\n",
    " \n",
    "def cmp(a, b):\n",
    "    return (a - b)\n",
    " \n",
    "def firstMissingPositive(nums):\n",
    " \n",
    "    nums.sort(key = cmp_to_key(cmp))\n",
    "    ans = 1\n",
    "    for i in range(len(nums)):\n",
    " \n",
    "        if(nums[i] == ans):\n",
    "            ans += 1\n",
    " \n",
    "    return ans\n",
    "\n",
    "arr = [0, 10, 2, -10, -20]\n",
    "print(firstMissingPositive(arr))"
   ]
  },
  {
   "cell_type": "markdown",
   "id": "fbb84347",
   "metadata": {},
   "source": [
    "### Q43 Write a program to find the number of occurrences of a given element in a list"
   ]
  },
  {
   "cell_type": "code",
   "execution_count": 61,
   "id": "2940ab9e",
   "metadata": {},
   "outputs": [
    {
     "name": "stdout",
     "output_type": "stream",
     "text": [
      "8 has occurred 5 times\n"
     ]
    }
   ],
   "source": [
    "\n",
    "def countX(l1, x):\n",
    "    count = 0\n",
    "    for ele in l1:\n",
    "        if (ele == x):\n",
    "            count = count + 1\n",
    "    return count\n",
    " \n",
    " \n",
    "\n",
    "l = [8, 6, 8, 10, 8, 20, 10, 8, 8]\n",
    "x = 8\n",
    "print('{} has occurred {} times'.format(x,countX(l, x)))"
   ]
  },
  {
   "cell_type": "markdown",
   "id": "7a80484f",
   "metadata": {},
   "source": [
    "### Q44 Implement a function to check if a given number is a perfect number."
   ]
  },
  {
   "cell_type": "code",
   "execution_count": 63,
   "id": "2c03738c",
   "metadata": {},
   "outputs": [
    {
     "data": {
      "text/plain": [
       "True"
      ]
     },
     "execution_count": 63,
     "metadata": {},
     "output_type": "execute_result"
    }
   ],
   "source": [
    "\n",
    "def isPerfect( n ):\n",
    "     \n",
    "    # To store sum of divisors\n",
    "    sum = 1\n",
    "     \n",
    "    # Find all divisors and add them\n",
    "    i = 2\n",
    "    while i * i <= n:\n",
    "        if n % i == 0:\n",
    "            sum = sum + i + n/i\n",
    "        i += 1\n",
    "     \n",
    "    # If sum of divisors is equal to\n",
    "    # n, then n is a perfect number\n",
    "     \n",
    "    return (True if sum == n and n!=1 else False)\n",
    "\n",
    "isPerfect(28)"
   ]
  },
  {
   "cell_type": "markdown",
   "id": "a3f1ae46",
   "metadata": {},
   "source": [
    "### Q45 Write a Python program to remove all duplicates from a string."
   ]
  },
  {
   "cell_type": "code",
   "execution_count": 65,
   "id": "bb24f955",
   "metadata": {},
   "outputs": [
    {
     "name": "stdout",
     "output_type": "stream",
     "text": [
      "heryougCampin\n"
     ]
    }
   ],
   "source": [
    "## Sol 45\n",
    "string=\"hereyougoChampiongo\"\n",
    "p=\"\"\n",
    "for char in string:\n",
    "    if char not in p:\n",
    "        p=p+char\n",
    "print(p)\n",
    "k=list(\"geeksforgeeks\")"
   ]
  },
  {
   "cell_type": "markdown",
   "id": "f7048d84",
   "metadata": {},
   "source": [
    "### Q46 Implement a function to find the first missing positive"
   ]
  },
  {
   "cell_type": "code",
   "execution_count": 66,
   "id": "69b2be32",
   "metadata": {},
   "outputs": [
    {
     "name": "stdout",
     "output_type": "stream",
     "text": [
      "2\n"
     ]
    }
   ],
   "source": [
    "##Sol 46\n",
    "\n",
    "\n",
    "def findMissing(arr, n):\n",
    " \n",
    "    l, h = 0, n - 1\n",
    "    mid = 0\n",
    " \n",
    "    while (h > l):\n",
    " \n",
    "        mid = l + (h - l) // 2\n",
    " \n",
    "        # Check if middle element is consistent\n",
    "        if (arr[mid] - mid == arr[0]):\n",
    " \n",
    "            # No inconsistency till middle elements\n",
    "            # When missing element is just after\n",
    "            # the middle element\n",
    "            if (arr[mid + 1] - arr[mid] > 1):\n",
    "                return arr[mid] + 1\n",
    "            else:\n",
    " \n",
    "                # Move right\n",
    "                l = mid + 1\n",
    "             \n",
    "        else:\n",
    " \n",
    "            # Inconsistency found\n",
    "            # When missing element is just before\n",
    "            # the middle element\n",
    "            if (arr[mid] - arr[mid - 1] > 1):\n",
    "                return arr[mid] - 1\n",
    "            else:\n",
    " \n",
    "                # Move left\n",
    "                h = mid - 1\n",
    "             \n",
    "    # No missing element found\n",
    "    return -1\n",
    " \n",
    "# Driver code\n",
    "arr = [1,3,4,5,6 ]\n",
    "n = len(arr)\n",
    "\n",
    "\n",
    " \n",
    "print(findMissing(arr, n))"
   ]
  },
  {
   "cell_type": "code",
   "execution_count": null,
   "id": "c9b1c51d",
   "metadata": {},
   "outputs": [],
   "source": []
  }
 ],
 "metadata": {
  "kernelspec": {
   "display_name": "Python 3 (ipykernel)",
   "language": "python",
   "name": "python3"
  },
  "language_info": {
   "codemirror_mode": {
    "name": "ipython",
    "version": 3
   },
   "file_extension": ".py",
   "mimetype": "text/x-python",
   "name": "python",
   "nbconvert_exporter": "python",
   "pygments_lexer": "ipython3",
   "version": "3.7.4"
  }
 },
 "nbformat": 4,
 "nbformat_minor": 5
}
