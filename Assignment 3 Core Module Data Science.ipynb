{
 "cells": [
  {
   "cell_type": "markdown",
   "id": "56d10db5",
   "metadata": {},
   "source": [
    "### Sol 1 Scenario: A company wants to analyze the sales performance of its products in different regions. They have collected the following data:\n",
    "   Region A: [10, 15, 12, 8, 14]\n",
    "   Region B: [18, 20, 16, 22, 25]\n",
    "   Calculate the mean sales for each region.\n"
   ]
  },
  {
   "cell_type": "code",
   "execution_count": 3,
   "id": "f8f9911f",
   "metadata": {},
   "outputs": [
    {
     "name": "stdout",
     "output_type": "stream",
     "text": [
      "Mean Sales of Region A 11.8 Mean Sales of Region B 20.2\n"
     ]
    }
   ],
   "source": [
    "## Sol 1\n",
    "import numpy as np\n",
    "\n",
    "SalesA= [10, 15, 12, 8, 14]\n",
    "SalesB= [18, 20, 16, 22, 25]\n",
    "\n",
    "print(\"Mean Sales of Region A\",np.mean(SalesA),\"Mean Sales of Region B\",np.mean(SalesB))\n",
    "\n"
   ]
  },
  {
   "cell_type": "markdown",
   "id": "fdb8816d",
   "metadata": {},
   "source": [
    "### Sol 2 Scenario: A survey is conducted to measure customer satisfaction on a scale of 1 to 5. The data collected is as follows:\n",
    "   [4, 5, 2, 3, 5, 4, 3, 2, 4, 5]\n",
    "   Calculate the mode of the survey responses.\n"
   ]
  },
  {
   "cell_type": "code",
   "execution_count": 4,
   "id": "fe52e858",
   "metadata": {},
   "outputs": [
    {
     "name": "stdout",
     "output_type": "stream",
     "text": [
      "Mode of Survey Response 4\n"
     ]
    }
   ],
   "source": [
    "## Sol 2\n",
    "\n",
    "from statistics import mode\n",
    "\n",
    "response=[4, 5, 2, 3, 5, 4, 3, 2, 4, 5]\n",
    "\n",
    "x=(mode(response))\n",
    "\n",
    "print(\"Mode of Survey Response\",x)"
   ]
  },
  {
   "cell_type": "markdown",
   "id": "9ae858f4",
   "metadata": {},
   "source": [
    "### Sol 3 Scenario: A company wants to compare the salaries of two departments. The salary data for Department A and Department B are as follows:\n",
    "   Department A: [5000, 6000, 5500, 7000]\n",
    "   Department B: [4500, 5500, 5800, 6000, 5200]\n",
    "   Calculate the median salary for each department.\n"
   ]
  },
  {
   "cell_type": "code",
   "execution_count": 6,
   "id": "636c03d4",
   "metadata": {},
   "outputs": [
    {
     "name": "stdout",
     "output_type": "stream",
     "text": [
      "Median Sales of Region A 5750.0 Median Sales of Region B 5500.0\n"
     ]
    }
   ],
   "source": [
    "## Sol 3\n",
    "\n",
    "DepartmentA=[5000, 6000, 5500, 7000]\n",
    "DepartmentB=[4500, 5500, 5800, 6000, 5200]\n",
    "\n",
    "print(\"Median Sales of Region A\",np.median(DepartmentA),\"Median Sales of Region B\",np.median(DepartmentB))"
   ]
  },
  {
   "cell_type": "markdown",
   "id": "90d19201",
   "metadata": {},
   "source": [
    "### Sol 4 Scenario: A data analyst wants to determine the variability in the daily stock prices of a company. The data collected is as follows:\n",
    "   [25.5, 24.8, 26.1, 25.3, 24.9]\n",
    "   Calculate the range of the stock prices.\n"
   ]
  },
  {
   "cell_type": "code",
   "execution_count": 7,
   "id": "5b4e9a8f",
   "metadata": {},
   "outputs": [
    {
     "name": "stdout",
     "output_type": "stream",
     "text": [
      "Range of Stocks 1.3000000000000007\n"
     ]
    }
   ],
   "source": [
    "## Sol 4\n",
    "\n",
    "StockPrices= [25.5, 24.8, 26.1, 25.3, 24.9]\n",
    "\n",
    "print(\"Range of Stocks\",np.max(StockPrices)-np.min(StockPrices))"
   ]
  },
  {
   "cell_type": "markdown",
   "id": "abbe4295",
   "metadata": {},
   "source": [
    "### Sol 5 Scenario: A study is conducted to compare the performance of two different teaching methods. The test scores of the students in each group are as follows:\n",
    "   Group A: [85, 90, 92, 88, 91]\n",
    "   Group B: [82, 88, 90, 86, 87]\n",
    "   Perform a t-test to determine if there is a significant difference in the mean scores between the two groups.\n"
   ]
  },
  {
   "cell_type": "code",
   "execution_count": 12,
   "id": "2abe646e",
   "metadata": {},
   "outputs": [
    {
     "name": "stdout",
     "output_type": "stream",
     "text": [
      "1.4312528946642733\n",
      "0.19023970239078333\n"
     ]
    }
   ],
   "source": [
    "## Sol 5 \n",
    "\n",
    "import scipy.stats as stats\n",
    "\n",
    "GroupA=[85, 90, 92, 88, 91]\n",
    "GroupB=[82, 88, 90, 86, 87]\n",
    "\n",
    "stats.ttest_ind(a=GroupA, b=GroupB, equal_var=True)\n",
    "\n",
    "print(x.statistic)\n",
    "print(x.pvalue)\n",
    "\n"
   ]
  },
  {
   "cell_type": "markdown",
   "id": "c1fc5c9a",
   "metadata": {},
   "source": [
    "### Sol 6 Scenario: A company wants to analyze the relationship between advertising expenditure and sales. The data collected is as follows:\n",
    "   Advertising Expenditure (in thousands): [10, 15, 12, 8, 14]\n",
    "   Sales (in thousands): [25, 30, 28, 20, 26]\n",
    "   Calculate the correlation coefficient between advertising expenditure and sales.\n"
   ]
  },
  {
   "cell_type": "code",
   "execution_count": 14,
   "id": "7a34d526",
   "metadata": {},
   "outputs": [
    {
     "name": "stdout",
     "output_type": "stream",
     "text": [
      "[[1.         0.87575114]\n",
      " [0.87575114 1.        ]]\n"
     ]
    }
   ],
   "source": [
    "## Sol 6 \n",
    "\n",
    "Advertisement = 1000*[10, 15, 12, 8, 14]\n",
    "Sales = 1000* [25, 30, 28, 20, 26]\n",
    "\n",
    "print(np.corrcoef(Advertisement, Sales))"
   ]
  },
  {
   "cell_type": "markdown",
   "id": "d26b5a18",
   "metadata": {},
   "source": [
    "### Sol 7 Scenario: A survey is conducted to measure the heights of a group of people. The data collected is as follows:\n",
    "   [160, 170, 165, 155, 175, 180, 170]\n",
    "   Calculate the standard deviation of the heights.\n"
   ]
  },
  {
   "cell_type": "code",
   "execution_count": 15,
   "id": "caeb70c9",
   "metadata": {},
   "outputs": [
    {
     "name": "stdout",
     "output_type": "stream",
     "text": [
      "Standard Deviation of survey 7.953949089757174\n"
     ]
    }
   ],
   "source": [
    "## Sol 7 \n",
    "\n",
    "survey=[160, 170, 165, 155, 175, 180, 170]\n",
    "\n",
    "print(\"Standard Deviation of survey\",np.std(survey))"
   ]
  },
  {
   "cell_type": "markdown",
   "id": "0819bf8b",
   "metadata": {},
   "source": [
    "### Sol 8 Scenario: A company wants to analyze the relationship between employee tenure and job satisfaction. The data collected is as follows:\n",
    "   Employee Tenure (in years): [2, 3, 5, 4, 6, 2, 4]\n",
    "   Job Satisfaction (on a scale of 1 to 10): [7, 8, 6, 9, 5, 7, 6]\n",
    "   Perform a linear regression analysis to predict job satisfaction based on employee tenure.\n"
   ]
  },
  {
   "cell_type": "code",
   "execution_count": 16,
   "id": "8681a2a3",
   "metadata": {},
   "outputs": [
    {
     "data": {
      "text/plain": [
       "array([7.81818182])"
      ]
     },
     "execution_count": 16,
     "metadata": {},
     "output_type": "execute_result"
    }
   ],
   "source": [
    "## Sol 8 \n",
    "\n",
    "import statsmodels.api as sm\n",
    "\n",
    "\n",
    "EmployeeTenure = [2, 3, 5, 4, 6, 2, 4]\n",
    "JobSatisfaction =[7, 8, 6, 9, 5, 7, 6]\n",
    "\n",
    "model = sm.OLS(JobSatisfaction,EmployeeTenure)\n",
    "\n",
    "results = model.fit()\n",
    "## Predict for Tenure of 5 Years\n",
    "results.predict([5])\n",
    "\n",
    "\n"
   ]
  },
  {
   "cell_type": "markdown",
   "id": "f64fec48",
   "metadata": {},
   "source": [
    "### Sol 9 Scenario: A study is conducted to compare the effectiveness of two different medications. The recovery times of the patients in each group are as follows:\n",
    "   Medication A: [10, 12, 14, 11, 13]\n",
    "   Medication B: [15, 17, 16, 14, 18]\n",
    "   Perform an analysis of variance (ANOVA) to determine if there is a significant difference in the mean recovery times between the two medications.\n"
   ]
  },
  {
   "cell_type": "code",
   "execution_count": 17,
   "id": "c62bf4f0",
   "metadata": {},
   "outputs": [
    {
     "data": {
      "text/plain": [
       "F_onewayResult(statistic=16.0, pvalue=0.003949772803445326)"
      ]
     },
     "execution_count": 17,
     "metadata": {},
     "output_type": "execute_result"
    }
   ],
   "source": [
    "## Sol 9 \n",
    "from scipy.stats import f_oneway\n",
    "\n",
    "MedicationA=[10, 12, 14, 11, 13]\n",
    "MedicationB=[15, 17, 16, 14, 18]\n",
    "\n",
    "f_oneway(MedicationA,MedicationB)\n",
    "\n",
    "## Reject null hypotghesis at 0.05 significance level there exits a difference"
   ]
  },
  {
   "cell_type": "markdown",
   "id": "659d5df4",
   "metadata": {},
   "source": [
    "### Sol 10 Scenario: A company wants to analyze customer feedback ratings on a scale of 1 to 10. The data collected is\n",
    "\n",
    " as follows:\n",
    "    [8, 9, 7, 6, 8, 10, 9, 8, 7, 8]\n",
    "    Calculate the 75th percentile of the feedback ratings.\n"
   ]
  },
  {
   "cell_type": "code",
   "execution_count": 18,
   "id": "e3306a72",
   "metadata": {},
   "outputs": [
    {
     "name": "stdout",
     "output_type": "stream",
     "text": [
      "75th Percentile of  8.75\n"
     ]
    }
   ],
   "source": [
    "## Sol 10\n",
    "\n",
    "ratings = [8, 9, 7, 6, 8, 10, 9, 8, 7, 8]\n",
    "\n",
    "print(\"75th Percentile of \",np.percentile(ratings,75))"
   ]
  },
  {
   "cell_type": "markdown",
   "id": "c2bad7b4",
   "metadata": {},
   "source": [
    "### Sol 11 Scenario: A quality control department wants to test the weight consistency of a product. The weights of a sample of products are as follows:\n",
    "    [10.2, 9.8, 10.0, 10.5, 10.3, 10.1]\n",
    "    Perform a hypothesis test to determine if the mean weight differs significantly from 10 grams.\n"
   ]
  },
  {
   "cell_type": "code",
   "execution_count": 20,
   "id": "46d54df7",
   "metadata": {},
   "outputs": [
    {
     "name": "stdout",
     "output_type": "stream",
     "text": [
      "1.5126584522688367 0.19077595151110102\n"
     ]
    }
   ],
   "source": [
    "## Sol 11\n",
    "'''\n",
    "Ho: Means are same as 10\n",
    "Ha: Means are different from 10\n",
    "'''\n",
    "from scipy.stats import ttest_1samp\n",
    "\n",
    "sample = [10.2, 9.8, 10.0, 10.5, 10.3, 10.1]\n",
    "\n",
    "\n",
    "tset, pval = ttest_1samp(sample, 10)\n",
    "\n",
    "print(tset, pval)\n",
    "\n",
    "#No there is no significant difference from 10 we failed to reject null hypotheis at 0.05"
   ]
  },
  {
   "cell_type": "markdown",
   "id": "9f083655",
   "metadata": {},
   "source": [
    "### Sol 12 Scenario: A company wants to analyze the click-through rates of two different website designs. The number of clicks for each design is as follows:\n",
    "    Design A: [100, 120, 110, 90, 95]\n",
    "    Design B: [80, 85, 90, 95, 100]\n",
    "    Perform a chi-square test to determine if there is a significant difference in the click-through rates between the two designs.\n"
   ]
  },
  {
   "cell_type": "code",
   "execution_count": 21,
   "id": "ec8fbd39",
   "metadata": {},
   "outputs": [
    {
     "data": {
      "text/plain": [
       "Power_divergenceResult(statistic=array([5.63106796, 2.77777778]), pvalue=array([0.22844647, 0.59567472]))"
      ]
     },
     "execution_count": 21,
     "metadata": {},
     "output_type": "execute_result"
    }
   ],
   "source": [
    "## Sol 12\n",
    "\n",
    "from scipy.stats import chisquare\n",
    "\n",
    "DesignA=[100, 120, 110, 90, 95]\n",
    "DesignB=[80, 85, 90, 95, 100]\n",
    "\n",
    "obs = np.array([DesignA, DesignB]).T\n",
    "\n",
    "chisquare(obs)"
   ]
  },
  {
   "cell_type": "markdown",
   "id": "549a27b2",
   "metadata": {},
   "source": [
    "### Sol 13 Scenario: A survey is conducted to measure customer satisfaction with a product on a scale of 1 to 10. The data collected is as follows:\n",
    "    [7, 9, 6, 8, 10, 7, 8, 9, 7, 8]\n",
    "    Calculate the 95% confidence interval for the population mean satisfaction score.\n"
   ]
  },
  {
   "cell_type": "code",
   "execution_count": 22,
   "id": "55949393",
   "metadata": {},
   "outputs": [
    {
     "name": "stderr",
     "output_type": "stream",
     "text": [
      "/var/folders/6d/qpxd8v516bdb8gj9wxny9xs40000gp/T/ipykernel_20383/2075700353.py:9: DeprecationWarning: Use of keyword argument 'alpha' for method 'interval' is deprecated and wil be removed in SciPy 1.11.0. Use first positional argument or keyword argument 'confidence' instead.\n",
      "  st.norm.interval(alpha=0.90,\n"
     ]
    },
    {
     "data": {
      "text/plain": [
       "(7.277268467352362, 8.522731532647638)"
      ]
     },
     "execution_count": 22,
     "metadata": {},
     "output_type": "execute_result"
    }
   ],
   "source": [
    "## Sol 13\n",
    "\n",
    "Score =  [7, 9, 6, 8, 10, 7, 8, 9, 7, 8]\n",
    "\n",
    "import scipy.stats as st\n",
    "  \n",
    "# create 95% confidence interval\n",
    "# for population mean weight\n",
    "st.norm.interval(alpha=0.90,\n",
    "                 loc=np.mean(Score),\n",
    "                 scale=st.sem(Score))"
   ]
  },
  {
   "cell_type": "markdown",
   "id": "9e7fe242",
   "metadata": {},
   "source": [
    "### Sol 14 Scenario: A company wants to analyze the effect of temperature on product performance. The data collected is as follows:\n",
    "    Temperature (in degrees Celsius): [20, 22, 23, 19, 21]\n",
    "    Performance (on a scale of 1 to 10): [8, 7, 9, 6, 8]\n",
    "    Perform a simple linear regression to predict performance based on temperature.\n"
   ]
  },
  {
   "cell_type": "code",
   "execution_count": 34,
   "id": "45bbf7a3",
   "metadata": {},
   "outputs": [
    {
     "name": "stdout",
     "output_type": "stream",
     "text": [
      "0.4807692307692307\n"
     ]
    },
    {
     "data": {
      "text/plain": [
       "array([-2.9])"
      ]
     },
     "execution_count": 34,
     "metadata": {},
     "output_type": "execute_result"
    }
   ],
   "source": [
    "## Sol 14 \n",
    "\n",
    "from sklearn.linear_model import LinearRegression\n",
    "\n",
    "lr=LinearRegression()\n",
    "\n",
    "Temperature= np.array([20, 22, 23, 19, 21]).reshape(-1,1)\n",
    "Performance= np.array([8, 7, 9, 6, 8]).reshape(-1,1)\n",
    "\n",
    "lr.fit(Temperature,Performance)\n",
    "print(lr.score(Temperature,Performance))\n",
    "lr.intercept_"
   ]
  },
  {
   "cell_type": "markdown",
   "id": "2189446e",
   "metadata": {},
   "source": [
    "### Sol 15 Scenario: A study is conducted to compare the preferences of two groups of participants. The preferences are measured on a Likert scale from 1 to 5. The data collected is as follows:\n",
    "    Group A: [4, 3, 5, 2, 4]\n",
    "    Group B: [3, 2, 4, 3, 3]\n",
    "    Perform a Mann-Whitney U test to determine if there is a significant difference in the median preferences between the two groups.\n"
   ]
  },
  {
   "cell_type": "code",
   "execution_count": 36,
   "id": "1405df2d",
   "metadata": {},
   "outputs": [
    {
     "name": "stdout",
     "output_type": "stream",
     "text": [
      "17.0\n",
      "0.42063492063492064\n"
     ]
    }
   ],
   "source": [
    "### Sol 15 \n",
    "\n",
    "from scipy.stats import mannwhitneyu\n",
    "\n",
    "GroupA=[4, 3, 5, 2, 4]\n",
    "GroupB=[3, 2, 4, 3, 3]\n",
    "\n",
    "U1, p = mannwhitneyu(GroupA,GroupB,method=\"exact\")\n",
    "print(U1)\n",
    "print(p)"
   ]
  },
  {
   "cell_type": "markdown",
   "id": "02f47add",
   "metadata": {},
   "source": [
    "### Sol 16  Scenario: A company wants to analyze the distribution of customer ages. The data collected is as follows:\n",
    "    [25, 30, 35, 40, 45, 50, 55, 60, 65, 70]\n",
    "    Calculate the interquartile range (IQR) of the ages.\n"
   ]
  },
  {
   "cell_type": "code",
   "execution_count": 37,
   "id": "f2be1f81",
   "metadata": {},
   "outputs": [
    {
     "data": {
      "text/plain": [
       "20.0"
      ]
     },
     "execution_count": 37,
     "metadata": {},
     "output_type": "execute_result"
    }
   ],
   "source": [
    "## Sol 16 \n",
    "\n",
    "ages =  [25, 30, 35, 40, 45, 50, 55, 60, 65, 70]\n",
    "\n",
    "stats.iqr(ages, interpolation = 'midpoint')"
   ]
  },
  {
   "cell_type": "markdown",
   "id": "400b592b",
   "metadata": {},
   "source": [
    "### Sol 17 Scenario: A study is conducted to compare the performance of three different machine learning algorithms. The accuracy scores for each algorithm are as follows:\n",
    "    Algorithm A: [0.85, 0.80, 0.82, 0.87, 0.83]\n",
    "    Algorithm B: [0.78, 0.82, 0.84, 0.80, 0.79]\n",
    "    Algorithm C: [0.90, 0.88, 0.89, 0.86, 0.87]\n",
    "    Perform a Kruskal-Wallis test to determine if there is a significant difference in the median accuracy scores between the algorithms.\n"
   ]
  },
  {
   "cell_type": "code",
   "execution_count": 39,
   "id": "bbb6572b",
   "metadata": {},
   "outputs": [
    {
     "data": {
      "text/plain": [
       "KruskalResult(statistic=9.696947935368053, pvalue=0.007840333026249539)"
      ]
     },
     "execution_count": 39,
     "metadata": {},
     "output_type": "execute_result"
    }
   ],
   "source": [
    "## Sol 17 \n",
    "\n",
    "AlgorithmA=[0.85, 0.80, 0.82, 0.87, 0.83]\n",
    "AlgorithmB=[0.78, 0.82, 0.84, 0.80, 0.79]\n",
    "AlgorithmC=[0.90, 0.88, 0.89, 0.86, 0.87]\n",
    "\n",
    "stats.kruskal(AlgorithmA,AlgorithmB,AlgorithmC)\n"
   ]
  },
  {
   "cell_type": "markdown",
   "id": "46a5fdfa",
   "metadata": {},
   "source": [
    "### Sol 18 Scenario: A company wants to analyze the effect of price on sales. The data collected is as follows:\n",
    "    Price (in dollars): [10, 15, 12, 8, 14]\n",
    "    Sales: [100, 80, 90, 110, 95]\n",
    "    Perform a simple linear regression to predict\n",
    "\n",
    " sales based on price.\n"
   ]
  },
  {
   "cell_type": "code",
   "execution_count": 42,
   "id": "7dc0d8ea",
   "metadata": {},
   "outputs": [
    {
     "name": "stdout",
     "output_type": "stream",
     "text": [
      "0.8064024390243903\n"
     ]
    },
    {
     "data": {
      "text/plain": [
       "array([33.65])"
      ]
     },
     "execution_count": 42,
     "metadata": {},
     "output_type": "execute_result"
    }
   ],
   "source": [
    "## Sol 18 \n",
    "\n",
    "Price=np.array([10, 15, 12, 8, 14]).reshape(-1,1)\n",
    "Sales=np.array([100, 80, 90, 110, 95]).reshape(-1,1)\n",
    "\n",
    "lr.fit(Sales,Price)\n",
    "print(lr.score(Sales,Price))\n",
    "lr.intercept_\n"
   ]
  },
  {
   "cell_type": "markdown",
   "id": "312a1b24",
   "metadata": {},
   "source": [
    "### Sol 19 Scenario: A survey is conducted to measure the satisfaction levels of customers with a new product. The data collected is as follows:\n",
    "    [7, 8, 9, 6, 8, 7, 9, 7, 8, 7]\n",
    "    Calculate the standard error of the mean satisfaction score.\n"
   ]
  },
  {
   "cell_type": "code",
   "execution_count": 43,
   "id": "7c765c17",
   "metadata": {},
   "outputs": [
    {
     "data": {
      "text/plain": [
       "0.30550504633038933"
      ]
     },
     "execution_count": 43,
     "metadata": {},
     "output_type": "execute_result"
    }
   ],
   "source": [
    "## Sol 19 \n",
    "\n",
    "from scipy.stats import sem\n",
    "\n",
    "data=  [7, 8, 9, 6, 8, 7, 9, 7, 8, 7]\n",
    "\n",
    "sem(data)"
   ]
  },
  {
   "cell_type": "markdown",
   "id": "932a829a",
   "metadata": {},
   "source": [
    "### Sol 20 Scenario: A company wants to analyze the relationship between advertising expenditure and sales. The data collected is as follows:\n",
    "    Advertising Expenditure (in thousands): [10, 15, 12, 8, 14]\n",
    "    Sales (in thousands): [25, 30, 28, 20, 26]\n",
    "    Perform a multiple regression analysis to predict sales based on advertising expenditure."
   ]
  },
  {
   "cell_type": "code",
   "execution_count": 44,
   "id": "78155ba9",
   "metadata": {},
   "outputs": [
    {
     "name": "stdout",
     "output_type": "stream",
     "text": [
      "0.7669400549639299\n"
     ]
    },
    {
     "data": {
      "text/plain": [
       "array([12.20121951])"
      ]
     },
     "execution_count": 44,
     "metadata": {},
     "output_type": "execute_result"
    }
   ],
   "source": [
    "### Sol 20 \n",
    "\n",
    "Advertisement = np.array(1000*[10, 15, 12, 8, 14]).reshape(-1,1)\n",
    "Sales = np.array(1000* [25, 30, 28, 20, 26]).reshape(-1,1)\n",
    "\n",
    "lr.fit(Advertisement,Sales)\n",
    "print(lr.score(Advertisement,Sales))\n",
    "lr.intercept_"
   ]
  },
  {
   "cell_type": "code",
   "execution_count": null,
   "id": "b8e9126e",
   "metadata": {},
   "outputs": [],
   "source": []
  }
 ],
 "metadata": {
  "kernelspec": {
   "display_name": "Python 3 (ipykernel)",
   "language": "python",
   "name": "python3"
  },
  "language_info": {
   "codemirror_mode": {
    "name": "ipython",
    "version": 3
   },
   "file_extension": ".py",
   "mimetype": "text/x-python",
   "name": "python",
   "nbconvert_exporter": "python",
   "pygments_lexer": "ipython3",
   "version": "3.10.9"
  }
 },
 "nbformat": 4,
 "nbformat_minor": 5
}
